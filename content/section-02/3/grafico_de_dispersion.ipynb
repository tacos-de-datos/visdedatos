{
 "cells": [
  {
   "cell_type": "markdown",
   "metadata": {},
   "source": [
    "# Gráfico de Dispersión\n",
    "\n",
    "***\n",
    "Un gráfico de dispersión visualiza la relación entre dos variables, como una afecta a la otra.\n",
    "\n",
    "Así es como se produce un gráfico de dispersión en `altair`:"
   ]
  },
  {
   "cell_type": "code",
   "execution_count": 1,
   "metadata": {},
   "outputs": [],
   "source": [
    "# primero importamos las bibliotecas necesarias\n",
    "# estos alias son convenciones populares\n",
    "# pero no son requisitos estrictos\n",
    "\n",
    "import pandas as pd\n",
    "import altair as alt"
   ]
  },
  {
   "cell_type": "markdown",
   "metadata": {},
   "source": [
    "Si estas trabajando con este __notebook__ en un __jupyter notebook__ y no el __jupyter lab__ requerirás ejecutar el siguiente código también."
   ]
  },
  {
   "cell_type": "code",
   "execution_count": null,
   "metadata": {},
   "outputs": [],
   "source": [
    "alt.renderers.enable(\"notebook\")"
   ]
  },
  {
   "cell_type": "markdown",
   "metadata": {},
   "source": [
    "Los datos con los que vamos a trabajar son de [INEGI](https://inegi.org.mx) y del [Banco Mundial](https://data.worldbank.org/indicator/NY.GDP.MKTP.CD?locations=MX). En este caso, el número de personas en el país y el producto interno bruto (PIB)."
   ]
  },
  {
   "cell_type": "code",
   "execution_count": 2,
   "metadata": {},
   "outputs": [],
   "source": [
    "datos = pd.read_csv(\"../../datos/pib.csv\")"
   ]
  },
  {
   "cell_type": "markdown",
   "metadata": {},
   "source": [
    "Puedes explorar el __DataFrame__ con el método `.head()` para observar las primeras líneas."
   ]
  },
  {
   "cell_type": "code",
   "execution_count": 3,
   "metadata": {},
   "outputs": [
    {
     "data": {
      "text/html": [
       "<div>\n",
       "<style scoped>\n",
       "    .dataframe tbody tr th:only-of-type {\n",
       "        vertical-align: middle;\n",
       "    }\n",
       "\n",
       "    .dataframe tbody tr th {\n",
       "        vertical-align: top;\n",
       "    }\n",
       "\n",
       "    .dataframe thead th {\n",
       "        text-align: right;\n",
       "    }\n",
       "</style>\n",
       "<table border=\"1\" class=\"dataframe\">\n",
       "  <thead>\n",
       "    <tr style=\"text-align: right;\">\n",
       "      <th></th>\n",
       "      <th>periodo</th>\n",
       "      <th>poblacion</th>\n",
       "      <th>PIB</th>\n",
       "    </tr>\n",
       "  </thead>\n",
       "  <tbody>\n",
       "    <tr>\n",
       "      <th>0</th>\n",
       "      <td>1960</td>\n",
       "      <td>34923129</td>\n",
       "      <td>1.304000e+10</td>\n",
       "    </tr>\n",
       "    <tr>\n",
       "      <th>1</th>\n",
       "      <td>1970</td>\n",
       "      <td>48225238</td>\n",
       "      <td>3.552000e+10</td>\n",
       "    </tr>\n",
       "    <tr>\n",
       "      <th>2</th>\n",
       "      <td>1980</td>\n",
       "      <td>66846833</td>\n",
       "      <td>1.943480e+11</td>\n",
       "    </tr>\n",
       "    <tr>\n",
       "      <th>3</th>\n",
       "      <td>1990</td>\n",
       "      <td>81249645</td>\n",
       "      <td>2.627100e+11</td>\n",
       "    </tr>\n",
       "    <tr>\n",
       "      <th>4</th>\n",
       "      <td>1995</td>\n",
       "      <td>91158290</td>\n",
       "      <td>3.600740e+11</td>\n",
       "    </tr>\n",
       "  </tbody>\n",
       "</table>\n",
       "</div>"
      ],
      "text/plain": [
       "   periodo  poblacion           PIB\n",
       "0     1960   34923129  1.304000e+10\n",
       "1     1970   48225238  3.552000e+10\n",
       "2     1980   66846833  1.943480e+11\n",
       "3     1990   81249645  2.627100e+11\n",
       "4     1995   91158290  3.600740e+11"
      ]
     },
     "execution_count": 3,
     "metadata": {},
     "output_type": "execute_result"
    }
   ],
   "source": [
    "datos.head()"
   ]
  },
  {
   "cell_type": "markdown",
   "metadata": {},
   "source": [
    "## Visualización"
   ]
  },
  {
   "cell_type": "code",
   "execution_count": 4,
   "metadata": {},
   "outputs": [
    {
     "data": {
      "application/vnd.vegalite.v2+json": {
       "$schema": "https://vega.github.io/schema/vega-lite/v2.6.0.json",
       "config": {
        "view": {
         "height": 300,
         "width": 400
        }
       },
       "data": {
        "name": "data-eb56dc23fa45c65901e315d20acb3e64"
       },
       "datasets": {
        "data-eb56dc23fa45c65901e315d20acb3e64": [
         {
          "PIB": 13040000000,
          "periodo": 1960,
          "poblacion": 34923129
         },
         {
          "PIB": 35520000000,
          "periodo": 1970,
          "poblacion": 48225238
         },
         {
          "PIB": 194348000000,
          "periodo": 1980,
          "poblacion": 66846833
         },
         {
          "PIB": 262710000000,
          "periodo": 1990,
          "poblacion": 81249645
         },
         {
          "PIB": 360074000000,
          "periodo": 1995,
          "poblacion": 91158290
         },
         {
          "PIB": 707907000000,
          "periodo": 2000,
          "poblacion": 97483412
         },
         {
          "PIB": 877476000000,
          "periodo": 2005,
          "poblacion": 103263388
         },
         {
          "PIB": 1057800000000,
          "periodo": 2010,
          "poblacion": 112336538
         },
         {
          "PIB": 1169620000000,
          "periodo": 2015,
          "poblacion": 119938473
         }
        ]
       },
       "encoding": {
        "x": {
         "field": "poblacion",
         "type": "quantitative"
        },
        "y": {
         "field": "PIB",
         "type": "quantitative"
        }
       },
       "mark": "point"
      },
      "image/png": "[encoded data removed]",
      "text/plain": [
       "<VegaLite 2 object>\n",
       "\n",
       "If you see this message, it means the renderer has not been properly enabled\n",
       "for the frontend that you are using. For more information, see\n",
       "https://altair-viz.github.io/user_guide/troubleshooting.html\n"
      ]
     },
     "execution_count": 4,
     "metadata": {},
     "output_type": "execute_result"
    }
   ],
   "source": [
    "alt.Chart(datos).mark_point().encode(\n",
    "    x = 'poblacion',\n",
    "    y = 'PIB',\n",
    ")"
   ]
  },
  {
   "cell_type": "markdown",
   "metadata": {},
   "source": [
    "Con este gráfico de dispersión puedes observar la relación positiva entre el PIB de Mexico y la población."
   ]
  },
  {
   "cell_type": "markdown",
   "metadata": {},
   "source": [
    "`altair` tiene otros marcadores que funcionan muy bien para crear gráficos de dispersión también como `.mark_circle()` y `.mark_square()`. <br>\n",
    "Modifica el código para crear los siguientes gráficos:\n",
    "\n",
    "![scatter square](../../images/chapter-02/cuadrados.png)\n",
    "\n",
    "![scatter circle](../../images/chapter-02/circulos.png)"
   ]
  },
  {
   "cell_type": "code",
   "execution_count": null,
   "metadata": {},
   "outputs": [],
   "source": [
    "# Cuadrados\n",
    "\n",
    "\n",
    "\n"
   ]
  },
  {
   "cell_type": "code",
   "execution_count": null,
   "metadata": {},
   "outputs": [],
   "source": [
    "# Circulos\n",
    "\n",
    "\n",
    "\n"
   ]
  },
  {
   "cell_type": "markdown",
   "metadata": {},
   "source": [
    "### Ejercicio\n",
    "En el capítulo anterior aprendiste algunos marcadores (como `.mark_trail()`) tienen la propiedad __size__ a la cual le puedes asignar una columna de tu __DataFrame__. <br>\n",
    "Modifica este gráfico para la propiedad __size__, recuerda que puedes asignarle otra columna que no hayas usado o repetir. <br>\n",
    "Más adelante aprenderás como personalizar aún más tus visualizaciones y como sacarle mayor provecho a este tipo de gráficos los cuales son muy comunes en el campo académico."
   ]
  },
  {
   "cell_type": "code",
   "execution_count": null,
   "metadata": {},
   "outputs": [],
   "source": [
    "alt.Chart(datos).mark_point().encode(\n",
    "    x = '',\n",
    "    y = '',\n",
    "    size = '',\n",
    ")"
   ]
  }
 ],
 "metadata": {
  "kernelspec": {
   "display_name": "Python 3",
   "language": "python",
   "name": "python3"
  },
  "language_info": {
   "codemirror_mode": {
    "name": "ipython",
    "version": 3
   },
   "file_extension": ".py",
   "mimetype": "text/x-python",
   "name": "python",
   "nbconvert_exporter": "python",
   "pygments_lexer": "ipython3",
   "version": "3.6.6"
  }
 },
 "nbformat": 4,
 "nbformat_minor": 2
}
