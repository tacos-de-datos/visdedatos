{
 "cells": [
  {
   "cell_type": "markdown",
   "metadata": {},
   "source": [
    "# Gráfico de Área\n",
    "\n",
    "***\n",
    "Un gráfico de área es similar a un gráfico de líneas pero se sombrea el área entre cada línea y el eje inferior.\n",
    "\n",
    "Así es como se produce un gráfico de área en `altair`:"
   ]
  },
  {
   "cell_type": "code",
   "execution_count": 1,
   "metadata": {},
   "outputs": [],
   "source": [
    "# primero importamos las bibliotecas necesarias\n",
    "# estos alias son convenciones populares\n",
    "# pero no son requisitos estrictos\n",
    "\n",
    "import pandas as pd\n",
    "import altair as alt"
   ]
  },
  {
   "cell_type": "markdown",
   "metadata": {},
   "source": [
    "Si estas trabajando con este __notebook__ en un __jupyter notebook__ y no el __jupyter lab__ requerirás ejecutar el siguiente código también."
   ]
  },
  {
   "cell_type": "code",
   "execution_count": null,
   "metadata": {},
   "outputs": [],
   "source": [
    "alt.renderers.enable(\"notebook\")"
   ]
  },
  {
   "cell_type": "markdown",
   "metadata": {},
   "source": [
    "Los datos con los que vamos a trabajar son del [Banco Mundial](https://data.worldbank.org/indicator/NY.GDP.MKTP.CD?locations=MX). En este caso, las emisiones de CO2 en toneladas métricas per capita."
   ]
  },
  {
   "cell_type": "code",
   "execution_count": 2,
   "metadata": {},
   "outputs": [],
   "source": [
    "datos = pd.read_csv(\"../../datos/norteamerica_CO2.csv\")"
   ]
  },
  {
   "cell_type": "markdown",
   "metadata": {},
   "source": [
    "Puedes explorar el __DataFrame__ con el método `.head()` para observar las primeras líneas."
   ]
  },
  {
   "cell_type": "code",
   "execution_count": 3,
   "metadata": {},
   "outputs": [
    {
     "data": {
      "text/html": [
       "<div>\n",
       "<style scoped>\n",
       "    .dataframe tbody tr th:only-of-type {\n",
       "        vertical-align: middle;\n",
       "    }\n",
       "\n",
       "    .dataframe tbody tr th {\n",
       "        vertical-align: top;\n",
       "    }\n",
       "\n",
       "    .dataframe thead th {\n",
       "        text-align: right;\n",
       "    }\n",
       "</style>\n",
       "<table border=\"1\" class=\"dataframe\">\n",
       "  <thead>\n",
       "    <tr style=\"text-align: right;\">\n",
       "      <th></th>\n",
       "      <th>pais</th>\n",
       "      <th>codigo</th>\n",
       "      <th>nombre del indicador</th>\n",
       "      <th>CO2</th>\n",
       "      <th>periodo</th>\n",
       "    </tr>\n",
       "  </thead>\n",
       "  <tbody>\n",
       "    <tr>\n",
       "      <th>0</th>\n",
       "      <td>Canada</td>\n",
       "      <td>CAN</td>\n",
       "      <td>CO2 emissions (metric tons per capita)</td>\n",
       "      <td>10.770847</td>\n",
       "      <td>1960</td>\n",
       "    </tr>\n",
       "    <tr>\n",
       "      <th>1</th>\n",
       "      <td>México</td>\n",
       "      <td>MEX</td>\n",
       "      <td>CO2 emissions (metric tons per capita)</td>\n",
       "      <td>1.653382</td>\n",
       "      <td>1960</td>\n",
       "    </tr>\n",
       "    <tr>\n",
       "      <th>2</th>\n",
       "      <td>Estados Unidos</td>\n",
       "      <td>USA</td>\n",
       "      <td>CO2 emissions (metric tons per capita)</td>\n",
       "      <td>15.999779</td>\n",
       "      <td>1960</td>\n",
       "    </tr>\n",
       "    <tr>\n",
       "      <th>3</th>\n",
       "      <td>Canada</td>\n",
       "      <td>CAN</td>\n",
       "      <td>CO2 emissions (metric tons per capita)</td>\n",
       "      <td>10.627898</td>\n",
       "      <td>1961</td>\n",
       "    </tr>\n",
       "    <tr>\n",
       "      <th>4</th>\n",
       "      <td>México</td>\n",
       "      <td>MEX</td>\n",
       "      <td>CO2 emissions (metric tons per capita)</td>\n",
       "      <td>1.657750</td>\n",
       "      <td>1961</td>\n",
       "    </tr>\n",
       "  </tbody>\n",
       "</table>\n",
       "</div>"
      ],
      "text/plain": [
       "             pais codigo                    nombre del indicador        CO2  \\\n",
       "0          Canada    CAN  CO2 emissions (metric tons per capita)  10.770847   \n",
       "1          México    MEX  CO2 emissions (metric tons per capita)   1.653382   \n",
       "2  Estados Unidos    USA  CO2 emissions (metric tons per capita)  15.999779   \n",
       "3          Canada    CAN  CO2 emissions (metric tons per capita)  10.627898   \n",
       "4          México    MEX  CO2 emissions (metric tons per capita)   1.657750   \n",
       "\n",
       "   periodo  \n",
       "0     1960  \n",
       "1     1960  \n",
       "2     1960  \n",
       "3     1961  \n",
       "4     1961  "
      ]
     },
     "execution_count": 3,
     "metadata": {},
     "output_type": "execute_result"
    }
   ],
   "source": [
    "datos.head()"
   ]
  },
  {
   "cell_type": "markdown",
   "metadata": {},
   "source": [
    "## Visualización"
   ]
  },
  {
   "cell_type": "code",
   "execution_count": 4,
   "metadata": {},
   "outputs": [
    {
     "data": {
      "application/vnd.vegalite.v2+json": {
       "$schema": "https://vega.github.io/schema/vega-lite/v2.6.0.json",
       "config": {
        "view": {
         "height": 300,
         "width": 400
        }
       },
       "data": {
        "name": "data-024d1a0ef40286845d43b062c5f5e3f6"
       },
       "datasets": {
        "data-024d1a0ef40286845d43b062c5f5e3f6": [
         {
          "CO2": 10.77084729,
          "codigo": "CAN",
          "nombre del indicador": "CO2 emissions (metric tons per capita)",
          "pais": "Canada",
          "periodo": 1960
         },
         {
          "CO2": 1.653382376,
          "codigo": "MEX",
          "nombre del indicador": "CO2 emissions (metric tons per capita)",
          "pais": "México",
          "periodo": 1960
         },
         {
          "CO2": 15.99977916,
          "codigo": "USA",
          "nombre del indicador": "CO2 emissions (metric tons per capita)",
          "pais": "Estados Unidos",
          "periodo": 1960
         },
         {
          "CO2": 10.62789765,
          "codigo": "CAN",
          "nombre del indicador": "CO2 emissions (metric tons per capita)",
          "pais": "Canada",
          "periodo": 1961
         },
         {
          "CO2": 1.657749762,
          "codigo": "MEX",
          "nombre del indicador": "CO2 emissions (metric tons per capita)",
          "pais": "México",
          "periodo": 1961
         },
         {
          "CO2": 15.68125552,
          "codigo": "USA",
          "nombre del indicador": "CO2 emissions (metric tons per capita)",
          "pais": "Estados Unidos",
          "periodo": 1961
         },
         {
          "CO2": 11.13062748,
          "codigo": "CAN",
          "nombre del indicador": "CO2 emissions (metric tons per capita)",
          "pais": "Canada",
          "periodo": 1962
         },
         {
          "CO2": 1.569744495,
          "codigo": "MEX",
          "nombre del indicador": "CO2 emissions (metric tons per capita)",
          "pais": "México",
          "periodo": 1962
         },
         {
          "CO2": 16.0139375,
          "codigo": "USA",
          "nombre del indicador": "CO2 emissions (metric tons per capita)",
          "pais": "Estados Unidos",
          "periodo": 1962
         },
         {
          "CO2": 11.1321024,
          "codigo": "CAN",
          "nombre del indicador": "CO2 emissions (metric tons per capita)",
          "pais": "Canada",
          "periodo": 1963
         },
         {
          "CO2": 1.58230541,
          "codigo": "MEX",
          "nombre del indicador": "CO2 emissions (metric tons per capita)",
          "pais": "México",
          "periodo": 1963
         },
         {
          "CO2": 16.48276215,
          "codigo": "USA",
          "nombre del indicador": "CO2 emissions (metric tons per capita)",
          "pais": "Estados Unidos",
          "periodo": 1963
         },
         {
          "CO2": 12.3053704,
          "codigo": "CAN",
          "nombre del indicador": "CO2 emissions (metric tons per capita)",
          "pais": "Canada",
          "periodo": 1964
         },
         {
          "CO2": 1.716861248,
          "codigo": "MEX",
          "nombre del indicador": "CO2 emissions (metric tons per capita)",
          "pais": "México",
          "periodo": 1964
         },
         {
          "CO2": 16.96811858,
          "codigo": "USA",
          "nombre del indicador": "CO2 emissions (metric tons per capita)",
          "pais": "Estados Unidos",
          "periodo": 1964
         },
         {
          "CO2": 12.81400147,
          "codigo": "CAN",
          "nombre del indicador": "CO2 emissions (metric tons per capita)",
          "pais": "Canada",
          "periodo": 1965
         },
         {
          "CO2": 1.686277648,
          "codigo": "MEX",
          "nombre del indicador": "CO2 emissions (metric tons per capita)",
          "pais": "México",
          "periodo": 1965
         },
         {
          "CO2": 17.45172525,
          "codigo": "USA",
          "nombre del indicador": "CO2 emissions (metric tons per capita)",
          "pais": "Estados Unidos",
          "periodo": 1965
         },
         {
          "CO2": 12.93491815,
          "codigo": "CAN",
          "nombre del indicador": "CO2 emissions (metric tons per capita)",
          "pais": "Canada",
          "periodo": 1966
         },
         {
          "CO2": 1.758940757,
          "codigo": "MEX",
          "nombre del indicador": "CO2 emissions (metric tons per capita)",
          "pais": "México",
          "periodo": 1966
         },
         {
          "CO2": 18.12107301,
          "codigo": "USA",
          "nombre del indicador": "CO2 emissions (metric tons per capita)",
          "pais": "Estados Unidos",
          "periodo": 1966
         },
         {
          "CO2": 13.8103546,
          "codigo": "CAN",
          "nombre del indicador": "CO2 emissions (metric tons per capita)",
          "pais": "Canada",
          "periodo": 1967
         },
         {
          "CO2": 1.899688259,
          "codigo": "MEX",
          "nombre del indicador": "CO2 emissions (metric tons per capita)",
          "pais": "México",
          "periodo": 1967
         },
         {
          "CO2": 18.59831788,
          "codigo": "USA",
          "nombre del indicador": "CO2 emissions (metric tons per capita)",
          "pais": "Estados Unidos",
          "periodo": 1967
         },
         {
          "CO2": 14.6326452,
          "codigo": "CAN",
          "nombre del indicador": "CO2 emissions (metric tons per capita)",
          "pais": "Canada",
          "periodo": 1968
         },
         {
          "CO2": 1.922298042,
          "codigo": "MEX",
          "nombre del indicador": "CO2 emissions (metric tons per capita)",
          "pais": "México",
          "periodo": 1968
         },
         {
          "CO2": 19.08938916,
          "codigo": "USA",
          "nombre del indicador": "CO2 emissions (metric tons per capita)",
          "pais": "Estados Unidos",
          "periodo": 1968
         },
         {
          "CO2": 14.61864861,
          "codigo": "CAN",
          "nombre del indicador": "CO2 emissions (metric tons per capita)",
          "pais": "Canada",
          "periodo": 1969
         },
         {
          "CO2": 2.028564787,
          "codigo": "MEX",
          "nombre del indicador": "CO2 emissions (metric tons per capita)",
          "pais": "México",
          "periodo": 1969
         },
         {
          "CO2": 19.85794566,
          "codigo": "USA",
          "nombre del indicador": "CO2 emissions (metric tons per capita)",
          "pais": "Estados Unidos",
          "periodo": 1969
         },
         {
          "CO2": 16.01414875,
          "codigo": "CAN",
          "nombre del indicador": "CO2 emissions (metric tons per capita)",
          "pais": "Canada",
          "periodo": 1970
         },
         {
          "CO2": 2.192453215,
          "codigo": "MEX",
          "nombre del indicador": "CO2 emissions (metric tons per capita)",
          "pais": "México",
          "periodo": 1970
         },
         {
          "CO2": 21.11125227,
          "codigo": "USA",
          "nombre del indicador": "CO2 emissions (metric tons per capita)",
          "pais": "Estados Unidos",
          "periodo": 1970
         },
         {
          "CO2": 16.29009027,
          "codigo": "CAN",
          "nombre del indicador": "CO2 emissions (metric tons per capita)",
          "pais": "Canada",
          "periodo": 1971
         },
         {
          "CO2": 2.351864333,
          "codigo": "MEX",
          "nombre del indicador": "CO2 emissions (metric tons per capita)",
          "pais": "México",
          "periodo": 1971
         },
         {
          "CO2": 20.98020348,
          "codigo": "USA",
          "nombre del indicador": "CO2 emissions (metric tons per capita)",
          "pais": "Estados Unidos",
          "periodo": 1971
         },
         {
          "CO2": 17.329425,
          "codigo": "CAN",
          "nombre del indicador": "CO2 emissions (metric tons per capita)",
          "pais": "Canada",
          "periodo": 1972
         },
         {
          "CO2": 2.387595326,
          "codigo": "MEX",
          "nombre del indicador": "CO2 emissions (metric tons per capita)",
          "pais": "México",
          "periodo": 1972
         },
         {
          "CO2": 21.74864198,
          "codigo": "USA",
          "nombre del indicador": "CO2 emissions (metric tons per capita)",
          "pais": "Estados Unidos",
          "periodo": 1972
         },
         {
          "CO2": 17.05995183,
          "codigo": "CAN",
          "nombre del indicador": "CO2 emissions (metric tons per capita)",
          "pais": "Canada",
          "periodo": 1973
         },
         {
          "CO2": 2.5190521,
          "codigo": "MEX",
          "nombre del indicador": "CO2 emissions (metric tons per capita)",
          "pais": "México",
          "periodo": 1973
         },
         {
          "CO2": 22.51058213,
          "codigo": "USA",
          "nombre del indicador": "CO2 emissions (metric tons per capita)",
          "pais": "Estados Unidos",
          "periodo": 1973
         },
         {
          "CO2": 17.12344306,
          "codigo": "CAN",
          "nombre del indicador": "CO2 emissions (metric tons per capita)",
          "pais": "Canada",
          "periodo": 1974
         },
         {
          "CO2": 2.623328776,
          "codigo": "MEX",
          "nombre del indicador": "CO2 emissions (metric tons per capita)",
          "pais": "México",
          "periodo": 1974
         },
         {
          "CO2": 21.50293038,
          "codigo": "USA",
          "nombre del indicador": "CO2 emissions (metric tons per capita)",
          "pais": "Estados Unidos",
          "periodo": 1974
         },
         {
          "CO2": 17.11161334,
          "codigo": "CAN",
          "nombre del indicador": "CO2 emissions (metric tons per capita)",
          "pais": "Canada",
          "periodo": 1975
         },
         {
          "CO2": 2.7019188780000003,
          "codigo": "MEX",
          "nombre del indicador": "CO2 emissions (metric tons per capita)",
          "pais": "México",
          "periodo": 1975
         },
         {
          "CO2": 20.40222407,
          "codigo": "USA",
          "nombre del indicador": "CO2 emissions (metric tons per capita)",
          "pais": "Estados Unidos",
          "periodo": 1975
         },
         {
          "CO2": 16.97924845,
          "codigo": "CAN",
          "nombre del indicador": "CO2 emissions (metric tons per capita)",
          "pais": "Canada",
          "periodo": 1976
         },
         {
          "CO2": 2.940391892,
          "codigo": "MEX",
          "nombre del indicador": "CO2 emissions (metric tons per capita)",
          "pais": "México",
          "periodo": 1976
         },
         {
          "CO2": 21.15761537,
          "codigo": "USA",
          "nombre del indicador": "CO2 emissions (metric tons per capita)",
          "pais": "Estados Unidos",
          "periodo": 1976
         },
         {
          "CO2": 17.15211666,
          "codigo": "CAN",
          "nombre del indicador": "CO2 emissions (metric tons per capita)",
          "pais": "Canada",
          "periodo": 1977
         },
         {
          "CO2": 2.997045312,
          "codigo": "MEX",
          "nombre del indicador": "CO2 emissions (metric tons per capita)",
          "pais": "México",
          "periodo": 1977
         },
         {
          "CO2": 21.53248401,
          "codigo": "USA",
          "nombre del indicador": "CO2 emissions (metric tons per capita)",
          "pais": "Estados Unidos",
          "periodo": 1977
         },
         {
          "CO2": 17.30306507,
          "codigo": "CAN",
          "nombre del indicador": "CO2 emissions (metric tons per capita)",
          "pais": "Canada",
          "periodo": 1978
         },
         {
          "CO2": 3.371456166,
          "codigo": "MEX",
          "nombre del indicador": "CO2 emissions (metric tons per capita)",
          "pais": "México",
          "periodo": 1978
         },
         {
          "CO2": 21.97300469,
          "codigo": "USA",
          "nombre del indicador": "CO2 emissions (metric tons per capita)",
          "pais": "Estados Unidos",
          "periodo": 1978
         },
         {
          "CO2": 18.2093278,
          "codigo": "CAN",
          "nombre del indicador": "CO2 emissions (metric tons per capita)",
          "pais": "Canada",
          "periodo": 1979
         },
         {
          "CO2": 3.557455847,
          "codigo": "MEX",
          "nombre del indicador": "CO2 emissions (metric tons per capita)",
          "pais": "México",
          "periodo": 1979
         },
         {
          "CO2": 21.78043698,
          "codigo": "USA",
          "nombre del indicador": "CO2 emissions (metric tons per capita)",
          "pais": "Estados Unidos",
          "periodo": 1979
         },
         {
          "CO2": 18.02276896,
          "codigo": "CAN",
          "nombre del indicador": "CO2 emissions (metric tons per capita)",
          "pais": "Canada",
          "periodo": 1980
         },
         {
          "CO2": 3.870391651,
          "codigo": "MEX",
          "nombre del indicador": "CO2 emissions (metric tons per capita)",
          "pais": "México",
          "periodo": 1980
         },
         {
          "CO2": 20.78648774,
          "codigo": "USA",
          "nombre del indicador": "CO2 emissions (metric tons per capita)",
          "pais": "Estados Unidos",
          "periodo": 1980
         },
         {
          "CO2": 17.26921369,
          "codigo": "CAN",
          "nombre del indicador": "CO2 emissions (metric tons per capita)",
          "pais": "Canada",
          "periodo": 1981
         },
         {
          "CO2": 4.00790346,
          "codigo": "MEX",
          "nombre del indicador": "CO2 emissions (metric tons per capita)",
          "pais": "México",
          "periodo": 1981
         },
         {
          "CO2": 19.76676417,
          "codigo": "USA",
          "nombre del indicador": "CO2 emissions (metric tons per capita)",
          "pais": "Estados Unidos",
          "periodo": 1981
         },
         {
          "CO2": 16.45944925,
          "codigo": "CAN",
          "nombre del indicador": "CO2 emissions (metric tons per capita)",
          "pais": "Canada",
          "periodo": 1982
         },
         {
          "CO2": 4.198720036,
          "codigo": "MEX",
          "nombre del indicador": "CO2 emissions (metric tons per capita)",
          "pais": "México",
          "periodo": 1982
         },
         {
          "CO2": 18.59049523,
          "codigo": "USA",
          "nombre del indicador": "CO2 emissions (metric tons per capita)",
          "pais": "Estados Unidos",
          "periodo": 1982
         },
         {
          "CO2": 16.0546492,
          "codigo": "CAN",
          "nombre del indicador": "CO2 emissions (metric tons per capita)",
          "pais": "Canada",
          "periodo": 1983
         },
         {
          "CO2": 3.75277087,
          "codigo": "MEX",
          "nombre del indicador": "CO2 emissions (metric tons per capita)",
          "pais": "México",
          "periodo": 1983
         },
         {
          "CO2": 18.57154371,
          "codigo": "USA",
          "nombre del indicador": "CO2 emissions (metric tons per capita)",
          "pais": "Estados Unidos",
          "periodo": 1983
         },
         {
          "CO2": 16.55885484,
          "codigo": "CAN",
          "nombre del indicador": "CO2 emissions (metric tons per capita)",
          "pais": "Canada",
          "periodo": 1984
         },
         {
          "CO2": 3.663535056,
          "codigo": "MEX",
          "nombre del indicador": "CO2 emissions (metric tons per capita)",
          "pais": "México",
          "periodo": 1984
         },
         {
          "CO2": 18.97675027,
          "codigo": "USA",
          "nombre del indicador": "CO2 emissions (metric tons per capita)",
          "pais": "Estados Unidos",
          "periodo": 1984
         },
         {
          "CO2": 16.27010385,
          "codigo": "CAN",
          "nombre del indicador": "CO2 emissions (metric tons per capita)",
          "pais": "Canada",
          "periodo": 1985
         },
         {
          "CO2": 3.729299229,
          "codigo": "MEX",
          "nombre del indicador": "CO2 emissions (metric tons per capita)",
          "pais": "México",
          "periodo": 1985
         },
         {
          "CO2": 18.88231274,
          "codigo": "USA",
          "nombre del indicador": "CO2 emissions (metric tons per capita)",
          "pais": "Estados Unidos",
          "periodo": 1985
         },
         {
          "CO2": 15.45768406,
          "codigo": "CAN",
          "nombre del indicador": "CO2 emissions (metric tons per capita)",
          "pais": "Canada",
          "periodo": 1986
         },
         {
          "CO2": 3.731708041,
          "codigo": "MEX",
          "nombre del indicador": "CO2 emissions (metric tons per capita)",
          "pais": "México",
          "periodo": 1986
         },
         {
          "CO2": 18.72072272,
          "codigo": "USA",
          "nombre del indicador": "CO2 emissions (metric tons per capita)",
          "pais": "Estados Unidos",
          "periodo": 1986
         },
         {
          "CO2": 16.24667458,
          "codigo": "CAN",
          "nombre del indicador": "CO2 emissions (metric tons per capita)",
          "pais": "Canada",
          "periodo": 1987
         },
         {
          "CO2": 3.817953871,
          "codigo": "MEX",
          "nombre del indicador": "CO2 emissions (metric tons per capita)",
          "pais": "México",
          "periodo": 1987
         },
         {
          "CO2": 19.35033442,
          "codigo": "USA",
          "nombre del indicador": "CO2 emissions (metric tons per capita)",
          "pais": "Estados Unidos",
          "periodo": 1987
         },
         {
          "CO2": 16.95682428,
          "codigo": "CAN",
          "nombre del indicador": "CO2 emissions (metric tons per capita)",
          "pais": "Canada",
          "periodo": 1988
         },
         {
          "CO2": 3.740894072,
          "codigo": "MEX",
          "nombre del indicador": "CO2 emissions (metric tons per capita)",
          "pais": "México",
          "periodo": 1988
         },
         {
          "CO2": 20.01041341,
          "codigo": "USA",
          "nombre del indicador": "CO2 emissions (metric tons per capita)",
          "pais": "Estados Unidos",
          "periodo": 1988
         },
         {
          "CO2": 16.92078279,
          "codigo": "CAN",
          "nombre del indicador": "CO2 emissions (metric tons per capita)",
          "pais": "Canada",
          "periodo": 1989
         },
         {
          "CO2": 4.323620233,
          "codigo": "MEX",
          "nombre del indicador": "CO2 emissions (metric tons per capita)",
          "pais": "México",
          "periodo": 1989
         },
         {
          "CO2": 20.07576978,
          "codigo": "USA",
          "nombre del indicador": "CO2 emissions (metric tons per capita)",
          "pais": "Estados Unidos",
          "periodo": 1989
         },
         {
          "CO2": 15.65907038,
          "codigo": "CAN",
          "nombre del indicador": "CO2 emissions (metric tons per capita)",
          "pais": "Canada",
          "periodo": 1990
         },
         {
          "CO2": 3.730500739,
          "codigo": "MEX",
          "nombre del indicador": "CO2 emissions (metric tons per capita)",
          "pais": "México",
          "periodo": 1990
         },
         {
          "CO2": 19.32275118,
          "codigo": "USA",
          "nombre del indicador": "CO2 emissions (metric tons per capita)",
          "pais": "Estados Unidos",
          "periodo": 1990
         },
         {
          "CO2": 15.14925974,
          "codigo": "CAN",
          "nombre del indicador": "CO2 emissions (metric tons per capita)",
          "pais": "Canada",
          "periodo": 1991
         },
         {
          "CO2": 3.812485098,
          "codigo": "MEX",
          "nombre del indicador": "CO2 emissions (metric tons per capita)",
          "pais": "México",
          "periodo": 1991
         },
         {
          "CO2": 19.05616319,
          "codigo": "USA",
          "nombre del indicador": "CO2 emissions (metric tons per capita)",
          "pais": "Estados Unidos",
          "periodo": 1991
         },
         {
          "CO2": 15.46230657,
          "codigo": "CAN",
          "nombre del indicador": "CO2 emissions (metric tons per capita)",
          "pais": "Canada",
          "periodo": 1992
         },
         {
          "CO2": 3.767921409,
          "codigo": "MEX",
          "nombre del indicador": "CO2 emissions (metric tons per capita)",
          "pais": "México",
          "periodo": 1992
         },
         {
          "CO2": 19.13943728,
          "codigo": "USA",
          "nombre del indicador": "CO2 emissions (metric tons per capita)",
          "pais": "Estados Unidos",
          "periodo": 1992
         },
         {
          "CO2": 15.45362956,
          "codigo": "CAN",
          "nombre del indicador": "CO2 emissions (metric tons per capita)",
          "pais": "Canada",
          "periodo": 1993
         },
         {
          "CO2": 3.746878153,
          "codigo": "MEX",
          "nombre del indicador": "CO2 emissions (metric tons per capita)",
          "pais": "México",
          "periodo": 1993
         },
         {
          "CO2": 19.34708291,
          "codigo": "USA",
          "nombre del indicador": "CO2 emissions (metric tons per capita)",
          "pais": "Estados Unidos",
          "periodo": 1993
         },
         {
          "CO2": 15.6928759,
          "codigo": "CAN",
          "nombre del indicador": "CO2 emissions (metric tons per capita)",
          "pais": "Canada",
          "periodo": 1994
         },
         {
          "CO2": 3.820068506,
          "codigo": "MEX",
          "nombre del indicador": "CO2 emissions (metric tons per capita)",
          "pais": "México",
          "periodo": 1994
         },
         {
          "CO2": 19.36089205,
          "codigo": "USA",
          "nombre del indicador": "CO2 emissions (metric tons per capita)",
          "pais": "Estados Unidos",
          "periodo": 1994
         },
         {
          "CO2": 15.93097506,
          "codigo": "CAN",
          "nombre del indicador": "CO2 emissions (metric tons per capita)",
          "pais": "Canada",
          "periodo": 1995
         },
         {
          "CO2": 3.538889585,
          "codigo": "MEX",
          "nombre del indicador": "CO2 emissions (metric tons per capita)",
          "pais": "México",
          "periodo": 1995
         },
         {
          "CO2": 19.27654526,
          "codigo": "USA",
          "nombre del indicador": "CO2 emissions (metric tons per capita)",
          "pais": "Estados Unidos",
          "periodo": 1995
         },
         {
          "CO2": 16.15737155,
          "codigo": "CAN",
          "nombre del indicador": "CO2 emissions (metric tons per capita)",
          "pais": "Canada",
          "periodo": 1996
         },
         {
          "CO2": 3.620305649,
          "codigo": "MEX",
          "nombre del indicador": "CO2 emissions (metric tons per capita)",
          "pais": "México",
          "periodo": 1996
         },
         {
          "CO2": 19.49602474,
          "codigo": "USA",
          "nombre del indicador": "CO2 emissions (metric tons per capita)",
          "pais": "Estados Unidos",
          "periodo": 1996
         },
         {
          "CO2": 16.51685906,
          "codigo": "CAN",
          "nombre del indicador": "CO2 emissions (metric tons per capita)",
          "pais": "Canada",
          "periodo": 1997
         },
         {
          "CO2": 3.801014279,
          "codigo": "MEX",
          "nombre del indicador": "CO2 emissions (metric tons per capita)",
          "pais": "México",
          "periodo": 1997
         },
         {
          "CO2": 19.69036318,
          "codigo": "USA",
          "nombre del indicador": "CO2 emissions (metric tons per capita)",
          "pais": "Estados Unidos",
          "periodo": 1997
         },
         {
          "CO2": 16.7460786,
          "codigo": "CAN",
          "nombre del indicador": "CO2 emissions (metric tons per capita)",
          "pais": "Canada",
          "periodo": 1998
         },
         {
          "CO2": 3.937272843,
          "codigo": "MEX",
          "nombre del indicador": "CO2 emissions (metric tons per capita)",
          "pais": "México",
          "periodo": 1998
         },
         {
          "CO2": 19.5792362,
          "codigo": "USA",
          "nombre del indicador": "CO2 emissions (metric tons per capita)",
          "pais": "Estados Unidos",
          "periodo": 1998
         },
         {
          "CO2": 16.89846016,
          "codigo": "CAN",
          "nombre del indicador": "CO2 emissions (metric tons per capita)",
          "pais": "Canada",
          "periodo": 1999
         },
         {
          "CO2": 3.904180812,
          "codigo": "MEX",
          "nombre del indicador": "CO2 emissions (metric tons per capita)",
          "pais": "México",
          "periodo": 1999
         },
         {
          "CO2": 19.72716951,
          "codigo": "USA",
          "nombre del indicador": "CO2 emissions (metric tons per capita)",
          "pais": "Estados Unidos",
          "periodo": 1999
         },
         {
          "CO2": 17.36711469,
          "codigo": "CAN",
          "nombre del indicador": "CO2 emissions (metric tons per capita)",
          "pais": "Canada",
          "periodo": 2000
         },
         {
          "CO2": 3.916478182,
          "codigo": "MEX",
          "nombre del indicador": "CO2 emissions (metric tons per capita)",
          "pais": "México",
          "periodo": 2000
         },
         {
          "CO2": 20.17875051,
          "codigo": "USA",
          "nombre del indicador": "CO2 emissions (metric tons per capita)",
          "pais": "Estados Unidos",
          "periodo": 2000
         },
         {
          "CO2": 16.98502952,
          "codigo": "CAN",
          "nombre del indicador": "CO2 emissions (metric tons per capita)",
          "pais": "Canada",
          "periodo": 2001
         },
         {
          "CO2": 4.006881616,
          "codigo": "MEX",
          "nombre del indicador": "CO2 emissions (metric tons per capita)",
          "pais": "México",
          "periodo": 2001
         },
         {
          "CO2": 19.63650507,
          "codigo": "USA",
          "nombre del indicador": "CO2 emissions (metric tons per capita)",
          "pais": "Estados Unidos",
          "periodo": 2001
         },
         {
          "CO2": 16.55937785,
          "codigo": "CAN",
          "nombre del indicador": "CO2 emissions (metric tons per capita)",
          "pais": "Canada",
          "periodo": 2002
         },
         {
          "CO2": 3.970934988,
          "codigo": "MEX",
          "nombre del indicador": "CO2 emissions (metric tons per capita)",
          "pais": "México",
          "periodo": 2002
         },
         {
          "CO2": 19.61340408,
          "codigo": "USA",
          "nombre del indicador": "CO2 emissions (metric tons per capita)",
          "pais": "Estados Unidos",
          "periodo": 2002
         },
         {
          "CO2": 17.46119914,
          "codigo": "CAN",
          "nombre del indicador": "CO2 emissions (metric tons per capita)",
          "pais": "Canada",
          "periodo": 2003
         },
         {
          "CO2": 4.16704652,
          "codigo": "MEX",
          "nombre del indicador": "CO2 emissions (metric tons per capita)",
          "pais": "México",
          "periodo": 2003
         },
         {
          "CO2": 19.56410453,
          "codigo": "USA",
          "nombre del indicador": "CO2 emissions (metric tons per capita)",
          "pais": "Estados Unidos",
          "periodo": 2003
         },
         {
          "CO2": 17.25891114,
          "codigo": "CAN",
          "nombre del indicador": "CO2 emissions (metric tons per capita)",
          "pais": "Canada",
          "periodo": 2004
         },
         {
          "CO2": 4.124551403,
          "codigo": "MEX",
          "nombre del indicador": "CO2 emissions (metric tons per capita)",
          "pais": "México",
          "periodo": 2004
         },
         {
          "CO2": 19.65837118,
          "codigo": "USA",
          "nombre del indicador": "CO2 emissions (metric tons per capita)",
          "pais": "Estados Unidos",
          "periodo": 2004
         },
         {
          "CO2": 17.25108328,
          "codigo": "CAN",
          "nombre del indicador": "CO2 emissions (metric tons per capita)",
          "pais": "Canada",
          "periodo": 2005
         },
         {
          "CO2": 4.299365235,
          "codigo": "MEX",
          "nombre del indicador": "CO2 emissions (metric tons per capita)",
          "pais": "México",
          "periodo": 2005
         },
         {
          "CO2": 19.59188523,
          "codigo": "USA",
          "nombre del indicador": "CO2 emissions (metric tons per capita)",
          "pais": "Estados Unidos",
          "periodo": 2005
         },
         {
          "CO2": 16.69669436,
          "codigo": "CAN",
          "nombre del indicador": "CO2 emissions (metric tons per capita)",
          "pais": "Canada",
          "periodo": 2006
         },
         {
          "CO2": 4.353173578,
          "codigo": "MEX",
          "nombre del indicador": "CO2 emissions (metric tons per capita)",
          "pais": "México",
          "periodo": 2006
         },
         {
          "CO2": 19.09406652,
          "codigo": "USA",
          "nombre del indicador": "CO2 emissions (metric tons per capita)",
          "pais": "Estados Unidos",
          "periodo": 2006
         },
         {
          "CO2": 16.85588274,
          "codigo": "CAN",
          "nombre del indicador": "CO2 emissions (metric tons per capita)",
          "pais": "Canada",
          "periodo": 2007
         },
         {
          "CO2": 4.296635487,
          "codigo": "MEX",
          "nombre del indicador": "CO2 emissions (metric tons per capita)",
          "pais": "México",
          "periodo": 2007
         },
         {
          "CO2": 19.21789784,
          "codigo": "USA",
          "nombre del indicador": "CO2 emissions (metric tons per capita)",
          "pais": "Estados Unidos",
          "periodo": 2007
         },
         {
          "CO2": 16.87519788,
          "codigo": "CAN",
          "nombre del indicador": "CO2 emissions (metric tons per capita)",
          "pais": "Canada",
          "periodo": 2008
         },
         {
          "CO2": 4.339644436,
          "codigo": "MEX",
          "nombre del indicador": "CO2 emissions (metric tons per capita)",
          "pais": "México",
          "periodo": 2008
         },
         {
          "CO2": 18.46176387,
          "codigo": "USA",
          "nombre del indicador": "CO2 emissions (metric tons per capita)",
          "pais": "Estados Unidos",
          "periodo": 2008
         },
         {
          "CO2": 15.96156016,
          "codigo": "CAN",
          "nombre del indicador": "CO2 emissions (metric tons per capita)",
          "pais": "Canada",
          "periodo": 2009
         },
         {
          "CO2": 4.120600766,
          "codigo": "MEX",
          "nombre del indicador": "CO2 emissions (metric tons per capita)",
          "pais": "México",
          "periodo": 2009
         },
         {
          "CO2": 17.15773779,
          "codigo": "USA",
          "nombre del indicador": "CO2 emissions (metric tons per capita)",
          "pais": "Estados Unidos",
          "periodo": 2009
         },
         {
          "CO2": 15.723167000000002,
          "codigo": "CAN",
          "nombre del indicador": "CO2 emissions (metric tons per capita)",
          "pais": "Canada",
          "periodo": 2010
         },
         {
          "CO2": 3.957657664,
          "codigo": "MEX",
          "nombre del indicador": "CO2 emissions (metric tons per capita)",
          "pais": "México",
          "periodo": 2010
         },
         {
          "CO2": 17.44216612,
          "codigo": "USA",
          "nombre del indicador": "CO2 emissions (metric tons per capita)",
          "pais": "Estados Unidos",
          "periodo": 2010
         },
         {
          "CO2": 15.63975962,
          "codigo": "CAN",
          "nombre del indicador": "CO2 emissions (metric tons per capita)",
          "pais": "Canada",
          "periodo": 2011
         },
         {
          "CO2": 4.067755192,
          "codigo": "MEX",
          "nombre del indicador": "CO2 emissions (metric tons per capita)",
          "pais": "México",
          "periodo": 2011
         },
         {
          "CO2": 16.97345609,
          "codigo": "USA",
          "nombre del indicador": "CO2 emissions (metric tons per capita)",
          "pais": "Estados Unidos",
          "periodo": 2011
         },
         {
          "CO2": 14.89063564,
          "codigo": "CAN",
          "nombre del indicador": "CO2 emissions (metric tons per capita)",
          "pais": "Canada",
          "periodo": 2012
         },
         {
          "CO2": 4.107686314,
          "codigo": "MEX",
          "nombre del indicador": "CO2 emissions (metric tons per capita)",
          "pais": "México",
          "periodo": 2012
         },
         {
          "CO2": 16.304286800000003,
          "codigo": "USA",
          "nombre del indicador": "CO2 emissions (metric tons per capita)",
          "pais": "Estados Unidos",
          "periodo": 2012
         },
         {
          "CO2": 14.71197182,
          "codigo": "CAN",
          "nombre del indicador": "CO2 emissions (metric tons per capita)",
          "pais": "Canada",
          "periodo": 2013
         },
         {
          "CO2": 4.001602493,
          "codigo": "MEX",
          "nombre del indicador": "CO2 emissions (metric tons per capita)",
          "pais": "México",
          "periodo": 2013
         },
         {
          "CO2": 16.31435182,
          "codigo": "USA",
          "nombre del indicador": "CO2 emissions (metric tons per capita)",
          "pais": "Estados Unidos",
          "periodo": 2013
         },
         {
          "CO2": 15.11715878,
          "codigo": "CAN",
          "nombre del indicador": "CO2 emissions (metric tons per capita)",
          "pais": "Canada",
          "periodo": 2014
         },
         {
          "CO2": 3.866241113,
          "codigo": "MEX",
          "nombre del indicador": "CO2 emissions (metric tons per capita)",
          "pais": "México",
          "periodo": 2014
         },
         {
          "CO2": 16.49060839,
          "codigo": "USA",
          "nombre del indicador": "CO2 emissions (metric tons per capita)",
          "pais": "Estados Unidos",
          "periodo": 2014
         }
        ]
       },
       "encoding": {
        "color": {
         "field": "pais",
         "type": "nominal"
        },
        "x": {
         "field": "periodo",
         "type": "quantitative"
        },
        "y": {
         "field": "CO2",
         "type": "quantitative"
        }
       },
       "mark": {
        "opacity": 0.3,
        "type": "area"
       }
      },
      "image/png": "[encoded data removed]",
      "text/plain": [
       "<VegaLite 2 object>\n",
       "\n",
       "If you see this message, it means the renderer has not been properly enabled\n",
       "for the frontend that you are using. For more information, see\n",
       "https://altair-viz.github.io/user_guide/troubleshooting.html\n"
      ]
     },
     "execution_count": 4,
     "metadata": {},
     "output_type": "execute_result"
    }
   ],
   "source": [
    "alt.Chart(datos).mark_area(opacity = 0.3).encode(\n",
    "    x = 'periodo',\n",
    "    y = 'CO2',\n",
    "    color = 'pais',\n",
    ")"
   ]
  },
  {
   "cell_type": "markdown",
   "metadata": {},
   "source": [
    "Nota: Así como puedes modificar las propiedades de `.encode()` también puedes hacerlo en el marcador. En este caso estamos especificando una opacidad de solo el 30%. <br>\n",
    "Intenta recrear este gráfico sin declarar __opacitiy__ en `.mark_area()` para que veas como se ve el default del gráfico."
   ]
  },
  {
   "cell_type": "code",
   "execution_count": null,
   "metadata": {},
   "outputs": [],
   "source": [
    "# Sin usar opacity\n",
    "alt.Chart(datos).\n",
    "\n",
    "\n",
    "\n"
   ]
  }
 ],
 "metadata": {
  "kernelspec": {
   "display_name": "Python 3",
   "language": "python",
   "name": "python3"
  },
  "language_info": {
   "codemirror_mode": {
    "name": "ipython",
    "version": 3
   },
   "file_extension": ".py",
   "mimetype": "text/x-python",
   "name": "python",
   "nbconvert_exporter": "python",
   "pygments_lexer": "ipython3",
   "version": "3.6.6"
  }
 },
 "nbformat": 4,
 "nbformat_minor": 2
}
