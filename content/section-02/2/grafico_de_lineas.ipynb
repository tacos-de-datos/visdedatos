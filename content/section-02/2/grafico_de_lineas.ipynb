{
 "cells": [
  {
   "cell_type": "markdown",
   "metadata": {},
   "source": [
    "# Gráfico de Líneas\n",
    "\n",
    "***\n",
    "Un gráfico de líneas esta compuesto por líneas continuas que conectan una pareja de valores (x,y) con la siguiente con una línea directa entre los dos puntos.\n",
    "\n",
    "Así es como se produce un gráfico de líneas en `altair`:"
   ]
  },
  {
   "cell_type": "code",
   "execution_count": 1,
   "metadata": {},
   "outputs": [],
   "source": [
    "# primero importamos las bibliotecas necesarias\n",
    "# estos alias son convenciones populares\n",
    "# pero no son requisitos estrictos\n",
    "\n",
    "import pandas as pd\n",
    "import altair as alt"
   ]
  },
  {
   "cell_type": "markdown",
   "metadata": {},
   "source": [
    "Si estas trabajando con este __notebook__ en un __jupyter notebook__ y no el __jupyter lab__ requerirás ejecutar el siguiente código también."
   ]
  },
  {
   "cell_type": "code",
   "execution_count": null,
   "metadata": {},
   "outputs": [],
   "source": [
    "alt.renderers.enable(\"notebook\")"
   ]
  },
  {
   "cell_type": "markdown",
   "metadata": {},
   "source": [
    "Los datos con los que vamos a trabajar son de [INEGI](https://inegi.org.mx). En este caso, el número de personas en el país desde 1910."
   ]
  },
  {
   "cell_type": "code",
   "execution_count": 2,
   "metadata": {},
   "outputs": [],
   "source": [
    "datos = pd.read_csv(\"../../datos/poblacion.csv\")"
   ]
  },
  {
   "cell_type": "markdown",
   "metadata": {},
   "source": [
    "Puedes explorar el __DataFrame__ con el método `.head()` para observar las primeras líneas."
   ]
  },
  {
   "cell_type": "code",
   "execution_count": 3,
   "metadata": {},
   "outputs": [
    {
     "data": {
      "text/html": [
       "<div>\n",
       "<style scoped>\n",
       "    .dataframe tbody tr th:only-of-type {\n",
       "        vertical-align: middle;\n",
       "    }\n",
       "\n",
       "    .dataframe tbody tr th {\n",
       "        vertical-align: top;\n",
       "    }\n",
       "\n",
       "    .dataframe thead th {\n",
       "        text-align: right;\n",
       "    }\n",
       "</style>\n",
       "<table border=\"1\" class=\"dataframe\">\n",
       "  <thead>\n",
       "    <tr style=\"text-align: right;\">\n",
       "      <th></th>\n",
       "      <th>Periodo</th>\n",
       "      <th>Número de personas</th>\n",
       "    </tr>\n",
       "  </thead>\n",
       "  <tbody>\n",
       "    <tr>\n",
       "      <th>0</th>\n",
       "      <td>1910</td>\n",
       "      <td>15160369</td>\n",
       "    </tr>\n",
       "    <tr>\n",
       "      <th>1</th>\n",
       "      <td>1921</td>\n",
       "      <td>14334780</td>\n",
       "    </tr>\n",
       "    <tr>\n",
       "      <th>2</th>\n",
       "      <td>1930</td>\n",
       "      <td>16552722</td>\n",
       "    </tr>\n",
       "    <tr>\n",
       "      <th>3</th>\n",
       "      <td>1940</td>\n",
       "      <td>19653552</td>\n",
       "    </tr>\n",
       "    <tr>\n",
       "      <th>4</th>\n",
       "      <td>1950</td>\n",
       "      <td>25791017</td>\n",
       "    </tr>\n",
       "  </tbody>\n",
       "</table>\n",
       "</div>"
      ],
      "text/plain": [
       "   Periodo  Número de personas\n",
       "0     1910            15160369\n",
       "1     1921            14334780\n",
       "2     1930            16552722\n",
       "3     1940            19653552\n",
       "4     1950            25791017"
      ]
     },
     "execution_count": 3,
     "metadata": {},
     "output_type": "execute_result"
    }
   ],
   "source": [
    "datos.head()"
   ]
  },
  {
   "cell_type": "markdown",
   "metadata": {},
   "source": [
    "## Visualización"
   ]
  },
  {
   "cell_type": "code",
   "execution_count": 4,
   "metadata": {},
   "outputs": [
    {
     "data": {
      "application/vnd.vegalite.v2+json": {
       "$schema": "https://vega.github.io/schema/vega-lite/v2.6.0.json",
       "config": {
        "view": {
         "height": 300,
         "width": 400
        }
       },
       "data": {
        "name": "data-cf3d660dcf7d8fe1659bd5f2e283e349"
       },
       "datasets": {
        "data-cf3d660dcf7d8fe1659bd5f2e283e349": [
         {
          "Número de personas": 15160369,
          "Periodo": 1910
         },
         {
          "Número de personas": 14334780,
          "Periodo": 1921
         },
         {
          "Número de personas": 16552722,
          "Periodo": 1930
         },
         {
          "Número de personas": 19653552,
          "Periodo": 1940
         },
         {
          "Número de personas": 25791017,
          "Periodo": 1950
         },
         {
          "Número de personas": 34923129,
          "Periodo": 1960
         },
         {
          "Número de personas": 48225238,
          "Periodo": 1970
         },
         {
          "Número de personas": 66846833,
          "Periodo": 1980
         },
         {
          "Número de personas": 81249645,
          "Periodo": 1990
         },
         {
          "Número de personas": 91158290,
          "Periodo": 1995
         },
         {
          "Número de personas": 97483412,
          "Periodo": 2000
         },
         {
          "Número de personas": 103263388,
          "Periodo": 2005
         },
         {
          "Número de personas": 112336538,
          "Periodo": 2010
         },
         {
          "Número de personas": 119938473,
          "Periodo": 2015
         }
        ]
       },
       "encoding": {
        "x": {
         "field": "Periodo",
         "type": "quantitative"
        },
        "y": {
         "field": "Número de personas",
         "type": "quantitative"
        }
       },
       "mark": "line"
      },
      "image/png": "[encoded data removed]",
      "text/plain": [
       "<VegaLite 2 object>\n",
       "\n",
       "If you see this message, it means the renderer has not been properly enabled\n",
       "for the frontend that you are using. For more information, see\n",
       "https://altair-viz.github.io/user_guide/troubleshooting.html\n"
      ]
     },
     "execution_count": 4,
     "metadata": {},
     "output_type": "execute_result"
    }
   ],
   "source": [
    "alt.Chart(datos).mark_line().encode(\n",
    "    x = 'Periodo',\n",
    "    y = 'Número de personas',\n",
    ")"
   ]
  },
  {
   "cell_type": "markdown",
   "metadata": {},
   "source": [
    "### Bonus\n",
    "Existe otro marcador para crear líneas: `.mark_trail()`. \n",
    "_trail_ se traduce a camino. Este marcador es como el marcador de línea, pero tiene otras propiedades que puedes _codificar_ con tus datos. Por ejemplo, el grosor (`size`) de la línea (o el camino) en tu visualización."
   ]
  },
  {
   "cell_type": "code",
   "execution_count": 5,
   "metadata": {},
   "outputs": [
    {
     "data": {
      "application/vnd.vegalite.v2+json": {
       "$schema": "https://vega.github.io/schema/vega-lite/v2.6.0.json",
       "config": {
        "view": {
         "height": 300,
         "width": 400
        }
       },
       "data": {
        "name": "data-cf3d660dcf7d8fe1659bd5f2e283e349"
       },
       "datasets": {
        "data-cf3d660dcf7d8fe1659bd5f2e283e349": [
         {
          "Número de personas": 15160369,
          "Periodo": 1910
         },
         {
          "Número de personas": 14334780,
          "Periodo": 1921
         },
         {
          "Número de personas": 16552722,
          "Periodo": 1930
         },
         {
          "Número de personas": 19653552,
          "Periodo": 1940
         },
         {
          "Número de personas": 25791017,
          "Periodo": 1950
         },
         {
          "Número de personas": 34923129,
          "Periodo": 1960
         },
         {
          "Número de personas": 48225238,
          "Periodo": 1970
         },
         {
          "Número de personas": 66846833,
          "Periodo": 1980
         },
         {
          "Número de personas": 81249645,
          "Periodo": 1990
         },
         {
          "Número de personas": 91158290,
          "Periodo": 1995
         },
         {
          "Número de personas": 97483412,
          "Periodo": 2000
         },
         {
          "Número de personas": 103263388,
          "Periodo": 2005
         },
         {
          "Número de personas": 112336538,
          "Periodo": 2010
         },
         {
          "Número de personas": 119938473,
          "Periodo": 2015
         }
        ]
       },
       "encoding": {
        "size": {
         "field": "Número de personas",
         "type": "quantitative"
        },
        "x": {
         "field": "Periodo",
         "type": "quantitative"
        },
        "y": {
         "field": "Número de personas",
         "type": "quantitative"
        }
       },
       "mark": "trail"
      },
      "image/png": "[encoded data removed]",
      "text/plain": [
       "<VegaLite 2 object>\n",
       "\n",
       "If you see this message, it means the renderer has not been properly enabled\n",
       "for the frontend that you are using. For more information, see\n",
       "https://altair-viz.github.io/user_guide/troubleshooting.html\n"
      ]
     },
     "execution_count": 5,
     "metadata": {},
     "output_type": "execute_result"
    }
   ],
   "source": [
    "alt.Chart(datos).mark_trail().encode(\n",
    "    x = 'Periodo',\n",
    "    y = 'Número de personas',\n",
    "    size = 'Número de personas',\n",
    ")"
   ]
  }
 ],
 "metadata": {
  "kernelspec": {
   "display_name": "Python 3",
   "language": "python",
   "name": "python3"
  },
  "language_info": {
   "codemirror_mode": {
    "name": "ipython",
    "version": 3
   },
   "file_extension": ".py",
   "mimetype": "text/x-python",
   "name": "python",
   "nbconvert_exporter": "python",
   "pygments_lexer": "ipython3",
   "version": "3.6.6"
  }
 },
 "nbformat": 4,
 "nbformat_minor": 2
}
