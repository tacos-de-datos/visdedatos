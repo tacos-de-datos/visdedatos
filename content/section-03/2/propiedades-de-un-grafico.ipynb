{
 "cells": [
  {
   "cell_type": "markdown",
   "metadata": {},
   "source": [
    "# Propiedades de un Gráfico\n",
    "\n",
    "Utilizamos `.mark_line()` para especificar las propiedades del marcador y `.encode()` para codificar nuestros datos de la misma manera podemos utilizar `.properties()` para especificar ciertos atributos de nuestro gráfico. Más adelante aprenderemos como configurar minuciosamente todos los detalles de cada parte del gráfico, por ahora agreguemos un título y especifiquemos las dimensiones de nuestra visualización."
   ]
  },
  {
   "cell_type": "markdown",
   "metadata": {},
   "source": [
    "Como siempre, comenzamos importando nuestros paquetes de `python` y asignando nuestros datos, en este caso en formato `CSV` a un __DataFrame__ de `pandas`."
   ]
  },
  {
   "cell_type": "code",
   "execution_count": 1,
   "metadata": {},
   "outputs": [],
   "source": [
    "import altair as alt\n",
    "import pandas as pd"
   ]
  },
  {
   "cell_type": "code",
   "execution_count": 2,
   "metadata": {},
   "outputs": [
    {
     "data": {
      "text/html": [
       "<div>\n",
       "<style scoped>\n",
       "    .dataframe tbody tr th:only-of-type {\n",
       "        vertical-align: middle;\n",
       "    }\n",
       "\n",
       "    .dataframe tbody tr th {\n",
       "        vertical-align: top;\n",
       "    }\n",
       "\n",
       "    .dataframe thead th {\n",
       "        text-align: right;\n",
       "    }\n",
       "</style>\n",
       "<table border=\"1\" class=\"dataframe\">\n",
       "  <thead>\n",
       "    <tr style=\"text-align: right;\">\n",
       "      <th></th>\n",
       "      <th>pais</th>\n",
       "      <th>codigo</th>\n",
       "      <th>nombre del indicador</th>\n",
       "      <th>CO2</th>\n",
       "      <th>periodo</th>\n",
       "    </tr>\n",
       "  </thead>\n",
       "  <tbody>\n",
       "    <tr>\n",
       "      <th>0</th>\n",
       "      <td>Canada</td>\n",
       "      <td>CAN</td>\n",
       "      <td>CO2 emissions (metric tons per capita)</td>\n",
       "      <td>10.770847</td>\n",
       "      <td>1960</td>\n",
       "    </tr>\n",
       "    <tr>\n",
       "      <th>1</th>\n",
       "      <td>México</td>\n",
       "      <td>MEX</td>\n",
       "      <td>CO2 emissions (metric tons per capita)</td>\n",
       "      <td>1.653382</td>\n",
       "      <td>1960</td>\n",
       "    </tr>\n",
       "    <tr>\n",
       "      <th>2</th>\n",
       "      <td>Estados Unidos</td>\n",
       "      <td>USA</td>\n",
       "      <td>CO2 emissions (metric tons per capita)</td>\n",
       "      <td>15.999779</td>\n",
       "      <td>1960</td>\n",
       "    </tr>\n",
       "    <tr>\n",
       "      <th>3</th>\n",
       "      <td>Canada</td>\n",
       "      <td>CAN</td>\n",
       "      <td>CO2 emissions (metric tons per capita)</td>\n",
       "      <td>10.627898</td>\n",
       "      <td>1961</td>\n",
       "    </tr>\n",
       "    <tr>\n",
       "      <th>4</th>\n",
       "      <td>México</td>\n",
       "      <td>MEX</td>\n",
       "      <td>CO2 emissions (metric tons per capita)</td>\n",
       "      <td>1.657750</td>\n",
       "      <td>1961</td>\n",
       "    </tr>\n",
       "  </tbody>\n",
       "</table>\n",
       "</div>"
      ],
      "text/plain": [
       "             pais codigo                    nombre del indicador        CO2  \\\n",
       "0          Canada    CAN  CO2 emissions (metric tons per capita)  10.770847   \n",
       "1          México    MEX  CO2 emissions (metric tons per capita)   1.653382   \n",
       "2  Estados Unidos    USA  CO2 emissions (metric tons per capita)  15.999779   \n",
       "3          Canada    CAN  CO2 emissions (metric tons per capita)  10.627898   \n",
       "4          México    MEX  CO2 emissions (metric tons per capita)   1.657750   \n",
       "\n",
       "   periodo  \n",
       "0     1960  \n",
       "1     1960  \n",
       "2     1960  \n",
       "3     1961  \n",
       "4     1961  "
      ]
     },
     "execution_count": 2,
     "metadata": {},
     "output_type": "execute_result"
    }
   ],
   "source": [
    "datos = pd.read_csv(\"../../datos/norteamerica_CO2.csv\")\n",
    "datos.head()"
   ]
  },
  {
   "cell_type": "markdown",
   "metadata": {},
   "source": [
    "## Visualizacion\n",
    "\n",
    "En la sección anterior aprendimos sobre `alt.X()` y `alt.Y()` para representar los valores X y Y en nuestro gráfico y especificar detalles más complejos de ellos. De ahora en adelante los usaremos por defecto. También aprendimos sobre como `altair` y `pandas` trabajan con objetos `datetime` y fechas. En este ejercicio llevaremos acabo el mismo proceso para transformar nuestra columna `\"periodo\"` de un __array__ de números a uno de fechas."
   ]
  },
  {
   "cell_type": "code",
   "execution_count": 3,
   "metadata": {},
   "outputs": [],
   "source": [
    "datos['periodo'] = pd.to_datetime(datos['periodo'], format = '%Y')"
   ]
  },
  {
   "cell_type": "markdown",
   "metadata": {},
   "source": [
    "Nuestro gráfico base bastante simple y algo que ya hemos aprendido a construir.\""
   ]
  },
  {
   "cell_type": "code",
   "execution_count": 6,
   "metadata": {},
   "outputs": [
    {
     "data": {
      "application/vnd.vegalite.v2+json": {
       "$schema": "https://vega.github.io/schema/vega-lite/v2.6.0.json",
       "config": {
        "view": {
         "height": 300,
         "width": 400
        }
       },
       "data": {
        "name": "data-42579047980a7c078844cc4e37df2248"
       },
       "datasets": {
        "data-42579047980a7c078844cc4e37df2248": [
         {
          "CO2": 10.77084729,
          "codigo": "CAN",
          "nombre del indicador": "CO2 emissions (metric tons per capita)",
          "pais": "Canada",
          "periodo": "1960-01-01T00:00:00"
         },
         {
          "CO2": 1.653382376,
          "codigo": "MEX",
          "nombre del indicador": "CO2 emissions (metric tons per capita)",
          "pais": "México",
          "periodo": "1960-01-01T00:00:00"
         },
         {
          "CO2": 15.99977916,
          "codigo": "USA",
          "nombre del indicador": "CO2 emissions (metric tons per capita)",
          "pais": "Estados Unidos",
          "periodo": "1960-01-01T00:00:00"
         },
         {
          "CO2": 10.62789765,
          "codigo": "CAN",
          "nombre del indicador": "CO2 emissions (metric tons per capita)",
          "pais": "Canada",
          "periodo": "1961-01-01T00:00:00"
         },
         {
          "CO2": 1.657749762,
          "codigo": "MEX",
          "nombre del indicador": "CO2 emissions (metric tons per capita)",
          "pais": "México",
          "periodo": "1961-01-01T00:00:00"
         },
         {
          "CO2": 15.68125552,
          "codigo": "USA",
          "nombre del indicador": "CO2 emissions (metric tons per capita)",
          "pais": "Estados Unidos",
          "periodo": "1961-01-01T00:00:00"
         },
         {
          "CO2": 11.13062748,
          "codigo": "CAN",
          "nombre del indicador": "CO2 emissions (metric tons per capita)",
          "pais": "Canada",
          "periodo": "1962-01-01T00:00:00"
         },
         {
          "CO2": 1.569744495,
          "codigo": "MEX",
          "nombre del indicador": "CO2 emissions (metric tons per capita)",
          "pais": "México",
          "periodo": "1962-01-01T00:00:00"
         },
         {
          "CO2": 16.0139375,
          "codigo": "USA",
          "nombre del indicador": "CO2 emissions (metric tons per capita)",
          "pais": "Estados Unidos",
          "periodo": "1962-01-01T00:00:00"
         },
         {
          "CO2": 11.1321024,
          "codigo": "CAN",
          "nombre del indicador": "CO2 emissions (metric tons per capita)",
          "pais": "Canada",
          "periodo": "1963-01-01T00:00:00"
         },
         {
          "CO2": 1.58230541,
          "codigo": "MEX",
          "nombre del indicador": "CO2 emissions (metric tons per capita)",
          "pais": "México",
          "periodo": "1963-01-01T00:00:00"
         },
         {
          "CO2": 16.48276215,
          "codigo": "USA",
          "nombre del indicador": "CO2 emissions (metric tons per capita)",
          "pais": "Estados Unidos",
          "periodo": "1963-01-01T00:00:00"
         },
         {
          "CO2": 12.3053704,
          "codigo": "CAN",
          "nombre del indicador": "CO2 emissions (metric tons per capita)",
          "pais": "Canada",
          "periodo": "1964-01-01T00:00:00"
         },
         {
          "CO2": 1.716861248,
          "codigo": "MEX",
          "nombre del indicador": "CO2 emissions (metric tons per capita)",
          "pais": "México",
          "periodo": "1964-01-01T00:00:00"
         },
         {
          "CO2": 16.96811858,
          "codigo": "USA",
          "nombre del indicador": "CO2 emissions (metric tons per capita)",
          "pais": "Estados Unidos",
          "periodo": "1964-01-01T00:00:00"
         },
         {
          "CO2": 12.81400147,
          "codigo": "CAN",
          "nombre del indicador": "CO2 emissions (metric tons per capita)",
          "pais": "Canada",
          "periodo": "1965-01-01T00:00:00"
         },
         {
          "CO2": 1.686277648,
          "codigo": "MEX",
          "nombre del indicador": "CO2 emissions (metric tons per capita)",
          "pais": "México",
          "periodo": "1965-01-01T00:00:00"
         },
         {
          "CO2": 17.45172525,
          "codigo": "USA",
          "nombre del indicador": "CO2 emissions (metric tons per capita)",
          "pais": "Estados Unidos",
          "periodo": "1965-01-01T00:00:00"
         },
         {
          "CO2": 12.93491815,
          "codigo": "CAN",
          "nombre del indicador": "CO2 emissions (metric tons per capita)",
          "pais": "Canada",
          "periodo": "1966-01-01T00:00:00"
         },
         {
          "CO2": 1.758940757,
          "codigo": "MEX",
          "nombre del indicador": "CO2 emissions (metric tons per capita)",
          "pais": "México",
          "periodo": "1966-01-01T00:00:00"
         },
         {
          "CO2": 18.12107301,
          "codigo": "USA",
          "nombre del indicador": "CO2 emissions (metric tons per capita)",
          "pais": "Estados Unidos",
          "periodo": "1966-01-01T00:00:00"
         },
         {
          "CO2": 13.8103546,
          "codigo": "CAN",
          "nombre del indicador": "CO2 emissions (metric tons per capita)",
          "pais": "Canada",
          "periodo": "1967-01-01T00:00:00"
         },
         {
          "CO2": 1.899688259,
          "codigo": "MEX",
          "nombre del indicador": "CO2 emissions (metric tons per capita)",
          "pais": "México",
          "periodo": "1967-01-01T00:00:00"
         },
         {
          "CO2": 18.59831788,
          "codigo": "USA",
          "nombre del indicador": "CO2 emissions (metric tons per capita)",
          "pais": "Estados Unidos",
          "periodo": "1967-01-01T00:00:00"
         },
         {
          "CO2": 14.6326452,
          "codigo": "CAN",
          "nombre del indicador": "CO2 emissions (metric tons per capita)",
          "pais": "Canada",
          "periodo": "1968-01-01T00:00:00"
         },
         {
          "CO2": 1.922298042,
          "codigo": "MEX",
          "nombre del indicador": "CO2 emissions (metric tons per capita)",
          "pais": "México",
          "periodo": "1968-01-01T00:00:00"
         },
         {
          "CO2": 19.08938916,
          "codigo": "USA",
          "nombre del indicador": "CO2 emissions (metric tons per capita)",
          "pais": "Estados Unidos",
          "periodo": "1968-01-01T00:00:00"
         },
         {
          "CO2": 14.61864861,
          "codigo": "CAN",
          "nombre del indicador": "CO2 emissions (metric tons per capita)",
          "pais": "Canada",
          "periodo": "1969-01-01T00:00:00"
         },
         {
          "CO2": 2.028564787,
          "codigo": "MEX",
          "nombre del indicador": "CO2 emissions (metric tons per capita)",
          "pais": "México",
          "periodo": "1969-01-01T00:00:00"
         },
         {
          "CO2": 19.85794566,
          "codigo": "USA",
          "nombre del indicador": "CO2 emissions (metric tons per capita)",
          "pais": "Estados Unidos",
          "periodo": "1969-01-01T00:00:00"
         },
         {
          "CO2": 16.01414875,
          "codigo": "CAN",
          "nombre del indicador": "CO2 emissions (metric tons per capita)",
          "pais": "Canada",
          "periodo": "1970-01-01T00:00:00"
         },
         {
          "CO2": 2.192453215,
          "codigo": "MEX",
          "nombre del indicador": "CO2 emissions (metric tons per capita)",
          "pais": "México",
          "periodo": "1970-01-01T00:00:00"
         },
         {
          "CO2": 21.11125227,
          "codigo": "USA",
          "nombre del indicador": "CO2 emissions (metric tons per capita)",
          "pais": "Estados Unidos",
          "periodo": "1970-01-01T00:00:00"
         },
         {
          "CO2": 16.29009027,
          "codigo": "CAN",
          "nombre del indicador": "CO2 emissions (metric tons per capita)",
          "pais": "Canada",
          "periodo": "1971-01-01T00:00:00"
         },
         {
          "CO2": 2.351864333,
          "codigo": "MEX",
          "nombre del indicador": "CO2 emissions (metric tons per capita)",
          "pais": "México",
          "periodo": "1971-01-01T00:00:00"
         },
         {
          "CO2": 20.98020348,
          "codigo": "USA",
          "nombre del indicador": "CO2 emissions (metric tons per capita)",
          "pais": "Estados Unidos",
          "periodo": "1971-01-01T00:00:00"
         },
         {
          "CO2": 17.329425,
          "codigo": "CAN",
          "nombre del indicador": "CO2 emissions (metric tons per capita)",
          "pais": "Canada",
          "periodo": "1972-01-01T00:00:00"
         },
         {
          "CO2": 2.387595326,
          "codigo": "MEX",
          "nombre del indicador": "CO2 emissions (metric tons per capita)",
          "pais": "México",
          "periodo": "1972-01-01T00:00:00"
         },
         {
          "CO2": 21.74864198,
          "codigo": "USA",
          "nombre del indicador": "CO2 emissions (metric tons per capita)",
          "pais": "Estados Unidos",
          "periodo": "1972-01-01T00:00:00"
         },
         {
          "CO2": 17.05995183,
          "codigo": "CAN",
          "nombre del indicador": "CO2 emissions (metric tons per capita)",
          "pais": "Canada",
          "periodo": "1973-01-01T00:00:00"
         },
         {
          "CO2": 2.5190521,
          "codigo": "MEX",
          "nombre del indicador": "CO2 emissions (metric tons per capita)",
          "pais": "México",
          "periodo": "1973-01-01T00:00:00"
         },
         {
          "CO2": 22.51058213,
          "codigo": "USA",
          "nombre del indicador": "CO2 emissions (metric tons per capita)",
          "pais": "Estados Unidos",
          "periodo": "1973-01-01T00:00:00"
         },
         {
          "CO2": 17.12344306,
          "codigo": "CAN",
          "nombre del indicador": "CO2 emissions (metric tons per capita)",
          "pais": "Canada",
          "periodo": "1974-01-01T00:00:00"
         },
         {
          "CO2": 2.623328776,
          "codigo": "MEX",
          "nombre del indicador": "CO2 emissions (metric tons per capita)",
          "pais": "México",
          "periodo": "1974-01-01T00:00:00"
         },
         {
          "CO2": 21.50293038,
          "codigo": "USA",
          "nombre del indicador": "CO2 emissions (metric tons per capita)",
          "pais": "Estados Unidos",
          "periodo": "1974-01-01T00:00:00"
         },
         {
          "CO2": 17.11161334,
          "codigo": "CAN",
          "nombre del indicador": "CO2 emissions (metric tons per capita)",
          "pais": "Canada",
          "periodo": "1975-01-01T00:00:00"
         },
         {
          "CO2": 2.7019188780000003,
          "codigo": "MEX",
          "nombre del indicador": "CO2 emissions (metric tons per capita)",
          "pais": "México",
          "periodo": "1975-01-01T00:00:00"
         },
         {
          "CO2": 20.40222407,
          "codigo": "USA",
          "nombre del indicador": "CO2 emissions (metric tons per capita)",
          "pais": "Estados Unidos",
          "periodo": "1975-01-01T00:00:00"
         },
         {
          "CO2": 16.97924845,
          "codigo": "CAN",
          "nombre del indicador": "CO2 emissions (metric tons per capita)",
          "pais": "Canada",
          "periodo": "1976-01-01T00:00:00"
         },
         {
          "CO2": 2.940391892,
          "codigo": "MEX",
          "nombre del indicador": "CO2 emissions (metric tons per capita)",
          "pais": "México",
          "periodo": "1976-01-01T00:00:00"
         },
         {
          "CO2": 21.15761537,
          "codigo": "USA",
          "nombre del indicador": "CO2 emissions (metric tons per capita)",
          "pais": "Estados Unidos",
          "periodo": "1976-01-01T00:00:00"
         },
         {
          "CO2": 17.15211666,
          "codigo": "CAN",
          "nombre del indicador": "CO2 emissions (metric tons per capita)",
          "pais": "Canada",
          "periodo": "1977-01-01T00:00:00"
         },
         {
          "CO2": 2.997045312,
          "codigo": "MEX",
          "nombre del indicador": "CO2 emissions (metric tons per capita)",
          "pais": "México",
          "periodo": "1977-01-01T00:00:00"
         },
         {
          "CO2": 21.53248401,
          "codigo": "USA",
          "nombre del indicador": "CO2 emissions (metric tons per capita)",
          "pais": "Estados Unidos",
          "periodo": "1977-01-01T00:00:00"
         },
         {
          "CO2": 17.30306507,
          "codigo": "CAN",
          "nombre del indicador": "CO2 emissions (metric tons per capita)",
          "pais": "Canada",
          "periodo": "1978-01-01T00:00:00"
         },
         {
          "CO2": 3.371456166,
          "codigo": "MEX",
          "nombre del indicador": "CO2 emissions (metric tons per capita)",
          "pais": "México",
          "periodo": "1978-01-01T00:00:00"
         },
         {
          "CO2": 21.97300469,
          "codigo": "USA",
          "nombre del indicador": "CO2 emissions (metric tons per capita)",
          "pais": "Estados Unidos",
          "periodo": "1978-01-01T00:00:00"
         },
         {
          "CO2": 18.2093278,
          "codigo": "CAN",
          "nombre del indicador": "CO2 emissions (metric tons per capita)",
          "pais": "Canada",
          "periodo": "1979-01-01T00:00:00"
         },
         {
          "CO2": 3.557455847,
          "codigo": "MEX",
          "nombre del indicador": "CO2 emissions (metric tons per capita)",
          "pais": "México",
          "periodo": "1979-01-01T00:00:00"
         },
         {
          "CO2": 21.78043698,
          "codigo": "USA",
          "nombre del indicador": "CO2 emissions (metric tons per capita)",
          "pais": "Estados Unidos",
          "periodo": "1979-01-01T00:00:00"
         },
         {
          "CO2": 18.02276896,
          "codigo": "CAN",
          "nombre del indicador": "CO2 emissions (metric tons per capita)",
          "pais": "Canada",
          "periodo": "1980-01-01T00:00:00"
         },
         {
          "CO2": 3.870391651,
          "codigo": "MEX",
          "nombre del indicador": "CO2 emissions (metric tons per capita)",
          "pais": "México",
          "periodo": "1980-01-01T00:00:00"
         },
         {
          "CO2": 20.78648774,
          "codigo": "USA",
          "nombre del indicador": "CO2 emissions (metric tons per capita)",
          "pais": "Estados Unidos",
          "periodo": "1980-01-01T00:00:00"
         },
         {
          "CO2": 17.26921369,
          "codigo": "CAN",
          "nombre del indicador": "CO2 emissions (metric tons per capita)",
          "pais": "Canada",
          "periodo": "1981-01-01T00:00:00"
         },
         {
          "CO2": 4.00790346,
          "codigo": "MEX",
          "nombre del indicador": "CO2 emissions (metric tons per capita)",
          "pais": "México",
          "periodo": "1981-01-01T00:00:00"
         },
         {
          "CO2": 19.76676417,
          "codigo": "USA",
          "nombre del indicador": "CO2 emissions (metric tons per capita)",
          "pais": "Estados Unidos",
          "periodo": "1981-01-01T00:00:00"
         },
         {
          "CO2": 16.45944925,
          "codigo": "CAN",
          "nombre del indicador": "CO2 emissions (metric tons per capita)",
          "pais": "Canada",
          "periodo": "1982-01-01T00:00:00"
         },
         {
          "CO2": 4.198720036,
          "codigo": "MEX",
          "nombre del indicador": "CO2 emissions (metric tons per capita)",
          "pais": "México",
          "periodo": "1982-01-01T00:00:00"
         },
         {
          "CO2": 18.59049523,
          "codigo": "USA",
          "nombre del indicador": "CO2 emissions (metric tons per capita)",
          "pais": "Estados Unidos",
          "periodo": "1982-01-01T00:00:00"
         },
         {
          "CO2": 16.0546492,
          "codigo": "CAN",
          "nombre del indicador": "CO2 emissions (metric tons per capita)",
          "pais": "Canada",
          "periodo": "1983-01-01T00:00:00"
         },
         {
          "CO2": 3.75277087,
          "codigo": "MEX",
          "nombre del indicador": "CO2 emissions (metric tons per capita)",
          "pais": "México",
          "periodo": "1983-01-01T00:00:00"
         },
         {
          "CO2": 18.57154371,
          "codigo": "USA",
          "nombre del indicador": "CO2 emissions (metric tons per capita)",
          "pais": "Estados Unidos",
          "periodo": "1983-01-01T00:00:00"
         },
         {
          "CO2": 16.55885484,
          "codigo": "CAN",
          "nombre del indicador": "CO2 emissions (metric tons per capita)",
          "pais": "Canada",
          "periodo": "1984-01-01T00:00:00"
         },
         {
          "CO2": 3.663535056,
          "codigo": "MEX",
          "nombre del indicador": "CO2 emissions (metric tons per capita)",
          "pais": "México",
          "periodo": "1984-01-01T00:00:00"
         },
         {
          "CO2": 18.97675027,
          "codigo": "USA",
          "nombre del indicador": "CO2 emissions (metric tons per capita)",
          "pais": "Estados Unidos",
          "periodo": "1984-01-01T00:00:00"
         },
         {
          "CO2": 16.27010385,
          "codigo": "CAN",
          "nombre del indicador": "CO2 emissions (metric tons per capita)",
          "pais": "Canada",
          "periodo": "1985-01-01T00:00:00"
         },
         {
          "CO2": 3.729299229,
          "codigo": "MEX",
          "nombre del indicador": "CO2 emissions (metric tons per capita)",
          "pais": "México",
          "periodo": "1985-01-01T00:00:00"
         },
         {
          "CO2": 18.88231274,
          "codigo": "USA",
          "nombre del indicador": "CO2 emissions (metric tons per capita)",
          "pais": "Estados Unidos",
          "periodo": "1985-01-01T00:00:00"
         },
         {
          "CO2": 15.45768406,
          "codigo": "CAN",
          "nombre del indicador": "CO2 emissions (metric tons per capita)",
          "pais": "Canada",
          "periodo": "1986-01-01T00:00:00"
         },
         {
          "CO2": 3.731708041,
          "codigo": "MEX",
          "nombre del indicador": "CO2 emissions (metric tons per capita)",
          "pais": "México",
          "periodo": "1986-01-01T00:00:00"
         },
         {
          "CO2": 18.72072272,
          "codigo": "USA",
          "nombre del indicador": "CO2 emissions (metric tons per capita)",
          "pais": "Estados Unidos",
          "periodo": "1986-01-01T00:00:00"
         },
         {
          "CO2": 16.24667458,
          "codigo": "CAN",
          "nombre del indicador": "CO2 emissions (metric tons per capita)",
          "pais": "Canada",
          "periodo": "1987-01-01T00:00:00"
         },
         {
          "CO2": 3.817953871,
          "codigo": "MEX",
          "nombre del indicador": "CO2 emissions (metric tons per capita)",
          "pais": "México",
          "periodo": "1987-01-01T00:00:00"
         },
         {
          "CO2": 19.35033442,
          "codigo": "USA",
          "nombre del indicador": "CO2 emissions (metric tons per capita)",
          "pais": "Estados Unidos",
          "periodo": "1987-01-01T00:00:00"
         },
         {
          "CO2": 16.95682428,
          "codigo": "CAN",
          "nombre del indicador": "CO2 emissions (metric tons per capita)",
          "pais": "Canada",
          "periodo": "1988-01-01T00:00:00"
         },
         {
          "CO2": 3.740894072,
          "codigo": "MEX",
          "nombre del indicador": "CO2 emissions (metric tons per capita)",
          "pais": "México",
          "periodo": "1988-01-01T00:00:00"
         },
         {
          "CO2": 20.01041341,
          "codigo": "USA",
          "nombre del indicador": "CO2 emissions (metric tons per capita)",
          "pais": "Estados Unidos",
          "periodo": "1988-01-01T00:00:00"
         },
         {
          "CO2": 16.92078279,
          "codigo": "CAN",
          "nombre del indicador": "CO2 emissions (metric tons per capita)",
          "pais": "Canada",
          "periodo": "1989-01-01T00:00:00"
         },
         {
          "CO2": 4.323620233,
          "codigo": "MEX",
          "nombre del indicador": "CO2 emissions (metric tons per capita)",
          "pais": "México",
          "periodo": "1989-01-01T00:00:00"
         },
         {
          "CO2": 20.07576978,
          "codigo": "USA",
          "nombre del indicador": "CO2 emissions (metric tons per capita)",
          "pais": "Estados Unidos",
          "periodo": "1989-01-01T00:00:00"
         },
         {
          "CO2": 15.65907038,
          "codigo": "CAN",
          "nombre del indicador": "CO2 emissions (metric tons per capita)",
          "pais": "Canada",
          "periodo": "1990-01-01T00:00:00"
         },
         {
          "CO2": 3.730500739,
          "codigo": "MEX",
          "nombre del indicador": "CO2 emissions (metric tons per capita)",
          "pais": "México",
          "periodo": "1990-01-01T00:00:00"
         },
         {
          "CO2": 19.32275118,
          "codigo": "USA",
          "nombre del indicador": "CO2 emissions (metric tons per capita)",
          "pais": "Estados Unidos",
          "periodo": "1990-01-01T00:00:00"
         },
         {
          "CO2": 15.14925974,
          "codigo": "CAN",
          "nombre del indicador": "CO2 emissions (metric tons per capita)",
          "pais": "Canada",
          "periodo": "1991-01-01T00:00:00"
         },
         {
          "CO2": 3.812485098,
          "codigo": "MEX",
          "nombre del indicador": "CO2 emissions (metric tons per capita)",
          "pais": "México",
          "periodo": "1991-01-01T00:00:00"
         },
         {
          "CO2": 19.05616319,
          "codigo": "USA",
          "nombre del indicador": "CO2 emissions (metric tons per capita)",
          "pais": "Estados Unidos",
          "periodo": "1991-01-01T00:00:00"
         },
         {
          "CO2": 15.46230657,
          "codigo": "CAN",
          "nombre del indicador": "CO2 emissions (metric tons per capita)",
          "pais": "Canada",
          "periodo": "1992-01-01T00:00:00"
         },
         {
          "CO2": 3.767921409,
          "codigo": "MEX",
          "nombre del indicador": "CO2 emissions (metric tons per capita)",
          "pais": "México",
          "periodo": "1992-01-01T00:00:00"
         },
         {
          "CO2": 19.13943728,
          "codigo": "USA",
          "nombre del indicador": "CO2 emissions (metric tons per capita)",
          "pais": "Estados Unidos",
          "periodo": "1992-01-01T00:00:00"
         },
         {
          "CO2": 15.45362956,
          "codigo": "CAN",
          "nombre del indicador": "CO2 emissions (metric tons per capita)",
          "pais": "Canada",
          "periodo": "1993-01-01T00:00:00"
         },
         {
          "CO2": 3.746878153,
          "codigo": "MEX",
          "nombre del indicador": "CO2 emissions (metric tons per capita)",
          "pais": "México",
          "periodo": "1993-01-01T00:00:00"
         },
         {
          "CO2": 19.34708291,
          "codigo": "USA",
          "nombre del indicador": "CO2 emissions (metric tons per capita)",
          "pais": "Estados Unidos",
          "periodo": "1993-01-01T00:00:00"
         },
         {
          "CO2": 15.6928759,
          "codigo": "CAN",
          "nombre del indicador": "CO2 emissions (metric tons per capita)",
          "pais": "Canada",
          "periodo": "1994-01-01T00:00:00"
         },
         {
          "CO2": 3.820068506,
          "codigo": "MEX",
          "nombre del indicador": "CO2 emissions (metric tons per capita)",
          "pais": "México",
          "periodo": "1994-01-01T00:00:00"
         },
         {
          "CO2": 19.36089205,
          "codigo": "USA",
          "nombre del indicador": "CO2 emissions (metric tons per capita)",
          "pais": "Estados Unidos",
          "periodo": "1994-01-01T00:00:00"
         },
         {
          "CO2": 15.93097506,
          "codigo": "CAN",
          "nombre del indicador": "CO2 emissions (metric tons per capita)",
          "pais": "Canada",
          "periodo": "1995-01-01T00:00:00"
         },
         {
          "CO2": 3.538889585,
          "codigo": "MEX",
          "nombre del indicador": "CO2 emissions (metric tons per capita)",
          "pais": "México",
          "periodo": "1995-01-01T00:00:00"
         },
         {
          "CO2": 19.27654526,
          "codigo": "USA",
          "nombre del indicador": "CO2 emissions (metric tons per capita)",
          "pais": "Estados Unidos",
          "periodo": "1995-01-01T00:00:00"
         },
         {
          "CO2": 16.15737155,
          "codigo": "CAN",
          "nombre del indicador": "CO2 emissions (metric tons per capita)",
          "pais": "Canada",
          "periodo": "1996-01-01T00:00:00"
         },
         {
          "CO2": 3.620305649,
          "codigo": "MEX",
          "nombre del indicador": "CO2 emissions (metric tons per capita)",
          "pais": "México",
          "periodo": "1996-01-01T00:00:00"
         },
         {
          "CO2": 19.49602474,
          "codigo": "USA",
          "nombre del indicador": "CO2 emissions (metric tons per capita)",
          "pais": "Estados Unidos",
          "periodo": "1996-01-01T00:00:00"
         },
         {
          "CO2": 16.51685906,
          "codigo": "CAN",
          "nombre del indicador": "CO2 emissions (metric tons per capita)",
          "pais": "Canada",
          "periodo": "1997-01-01T00:00:00"
         },
         {
          "CO2": 3.801014279,
          "codigo": "MEX",
          "nombre del indicador": "CO2 emissions (metric tons per capita)",
          "pais": "México",
          "periodo": "1997-01-01T00:00:00"
         },
         {
          "CO2": 19.69036318,
          "codigo": "USA",
          "nombre del indicador": "CO2 emissions (metric tons per capita)",
          "pais": "Estados Unidos",
          "periodo": "1997-01-01T00:00:00"
         },
         {
          "CO2": 16.7460786,
          "codigo": "CAN",
          "nombre del indicador": "CO2 emissions (metric tons per capita)",
          "pais": "Canada",
          "periodo": "1998-01-01T00:00:00"
         },
         {
          "CO2": 3.937272843,
          "codigo": "MEX",
          "nombre del indicador": "CO2 emissions (metric tons per capita)",
          "pais": "México",
          "periodo": "1998-01-01T00:00:00"
         },
         {
          "CO2": 19.5792362,
          "codigo": "USA",
          "nombre del indicador": "CO2 emissions (metric tons per capita)",
          "pais": "Estados Unidos",
          "periodo": "1998-01-01T00:00:00"
         },
         {
          "CO2": 16.89846016,
          "codigo": "CAN",
          "nombre del indicador": "CO2 emissions (metric tons per capita)",
          "pais": "Canada",
          "periodo": "1999-01-01T00:00:00"
         },
         {
          "CO2": 3.904180812,
          "codigo": "MEX",
          "nombre del indicador": "CO2 emissions (metric tons per capita)",
          "pais": "México",
          "periodo": "1999-01-01T00:00:00"
         },
         {
          "CO2": 19.72716951,
          "codigo": "USA",
          "nombre del indicador": "CO2 emissions (metric tons per capita)",
          "pais": "Estados Unidos",
          "periodo": "1999-01-01T00:00:00"
         },
         {
          "CO2": 17.36711469,
          "codigo": "CAN",
          "nombre del indicador": "CO2 emissions (metric tons per capita)",
          "pais": "Canada",
          "periodo": "2000-01-01T00:00:00"
         },
         {
          "CO2": 3.916478182,
          "codigo": "MEX",
          "nombre del indicador": "CO2 emissions (metric tons per capita)",
          "pais": "México",
          "periodo": "2000-01-01T00:00:00"
         },
         {
          "CO2": 20.17875051,
          "codigo": "USA",
          "nombre del indicador": "CO2 emissions (metric tons per capita)",
          "pais": "Estados Unidos",
          "periodo": "2000-01-01T00:00:00"
         },
         {
          "CO2": 16.98502952,
          "codigo": "CAN",
          "nombre del indicador": "CO2 emissions (metric tons per capita)",
          "pais": "Canada",
          "periodo": "2001-01-01T00:00:00"
         },
         {
          "CO2": 4.006881616,
          "codigo": "MEX",
          "nombre del indicador": "CO2 emissions (metric tons per capita)",
          "pais": "México",
          "periodo": "2001-01-01T00:00:00"
         },
         {
          "CO2": 19.63650507,
          "codigo": "USA",
          "nombre del indicador": "CO2 emissions (metric tons per capita)",
          "pais": "Estados Unidos",
          "periodo": "2001-01-01T00:00:00"
         },
         {
          "CO2": 16.55937785,
          "codigo": "CAN",
          "nombre del indicador": "CO2 emissions (metric tons per capita)",
          "pais": "Canada",
          "periodo": "2002-01-01T00:00:00"
         },
         {
          "CO2": 3.970934988,
          "codigo": "MEX",
          "nombre del indicador": "CO2 emissions (metric tons per capita)",
          "pais": "México",
          "periodo": "2002-01-01T00:00:00"
         },
         {
          "CO2": 19.61340408,
          "codigo": "USA",
          "nombre del indicador": "CO2 emissions (metric tons per capita)",
          "pais": "Estados Unidos",
          "periodo": "2002-01-01T00:00:00"
         },
         {
          "CO2": 17.46119914,
          "codigo": "CAN",
          "nombre del indicador": "CO2 emissions (metric tons per capita)",
          "pais": "Canada",
          "periodo": "2003-01-01T00:00:00"
         },
         {
          "CO2": 4.16704652,
          "codigo": "MEX",
          "nombre del indicador": "CO2 emissions (metric tons per capita)",
          "pais": "México",
          "periodo": "2003-01-01T00:00:00"
         },
         {
          "CO2": 19.56410453,
          "codigo": "USA",
          "nombre del indicador": "CO2 emissions (metric tons per capita)",
          "pais": "Estados Unidos",
          "periodo": "2003-01-01T00:00:00"
         },
         {
          "CO2": 17.25891114,
          "codigo": "CAN",
          "nombre del indicador": "CO2 emissions (metric tons per capita)",
          "pais": "Canada",
          "periodo": "2004-01-01T00:00:00"
         },
         {
          "CO2": 4.124551403,
          "codigo": "MEX",
          "nombre del indicador": "CO2 emissions (metric tons per capita)",
          "pais": "México",
          "periodo": "2004-01-01T00:00:00"
         },
         {
          "CO2": 19.65837118,
          "codigo": "USA",
          "nombre del indicador": "CO2 emissions (metric tons per capita)",
          "pais": "Estados Unidos",
          "periodo": "2004-01-01T00:00:00"
         },
         {
          "CO2": 17.25108328,
          "codigo": "CAN",
          "nombre del indicador": "CO2 emissions (metric tons per capita)",
          "pais": "Canada",
          "periodo": "2005-01-01T00:00:00"
         },
         {
          "CO2": 4.299365235,
          "codigo": "MEX",
          "nombre del indicador": "CO2 emissions (metric tons per capita)",
          "pais": "México",
          "periodo": "2005-01-01T00:00:00"
         },
         {
          "CO2": 19.59188523,
          "codigo": "USA",
          "nombre del indicador": "CO2 emissions (metric tons per capita)",
          "pais": "Estados Unidos",
          "periodo": "2005-01-01T00:00:00"
         },
         {
          "CO2": 16.69669436,
          "codigo": "CAN",
          "nombre del indicador": "CO2 emissions (metric tons per capita)",
          "pais": "Canada",
          "periodo": "2006-01-01T00:00:00"
         },
         {
          "CO2": 4.353173578,
          "codigo": "MEX",
          "nombre del indicador": "CO2 emissions (metric tons per capita)",
          "pais": "México",
          "periodo": "2006-01-01T00:00:00"
         },
         {
          "CO2": 19.09406652,
          "codigo": "USA",
          "nombre del indicador": "CO2 emissions (metric tons per capita)",
          "pais": "Estados Unidos",
          "periodo": "2006-01-01T00:00:00"
         },
         {
          "CO2": 16.85588274,
          "codigo": "CAN",
          "nombre del indicador": "CO2 emissions (metric tons per capita)",
          "pais": "Canada",
          "periodo": "2007-01-01T00:00:00"
         },
         {
          "CO2": 4.296635487,
          "codigo": "MEX",
          "nombre del indicador": "CO2 emissions (metric tons per capita)",
          "pais": "México",
          "periodo": "2007-01-01T00:00:00"
         },
         {
          "CO2": 19.21789784,
          "codigo": "USA",
          "nombre del indicador": "CO2 emissions (metric tons per capita)",
          "pais": "Estados Unidos",
          "periodo": "2007-01-01T00:00:00"
         },
         {
          "CO2": 16.87519788,
          "codigo": "CAN",
          "nombre del indicador": "CO2 emissions (metric tons per capita)",
          "pais": "Canada",
          "periodo": "2008-01-01T00:00:00"
         },
         {
          "CO2": 4.339644436,
          "codigo": "MEX",
          "nombre del indicador": "CO2 emissions (metric tons per capita)",
          "pais": "México",
          "periodo": "2008-01-01T00:00:00"
         },
         {
          "CO2": 18.46176387,
          "codigo": "USA",
          "nombre del indicador": "CO2 emissions (metric tons per capita)",
          "pais": "Estados Unidos",
          "periodo": "2008-01-01T00:00:00"
         },
         {
          "CO2": 15.96156016,
          "codigo": "CAN",
          "nombre del indicador": "CO2 emissions (metric tons per capita)",
          "pais": "Canada",
          "periodo": "2009-01-01T00:00:00"
         },
         {
          "CO2": 4.120600766,
          "codigo": "MEX",
          "nombre del indicador": "CO2 emissions (metric tons per capita)",
          "pais": "México",
          "periodo": "2009-01-01T00:00:00"
         },
         {
          "CO2": 17.15773779,
          "codigo": "USA",
          "nombre del indicador": "CO2 emissions (metric tons per capita)",
          "pais": "Estados Unidos",
          "periodo": "2009-01-01T00:00:00"
         },
         {
          "CO2": 15.723167000000002,
          "codigo": "CAN",
          "nombre del indicador": "CO2 emissions (metric tons per capita)",
          "pais": "Canada",
          "periodo": "2010-01-01T00:00:00"
         },
         {
          "CO2": 3.957657664,
          "codigo": "MEX",
          "nombre del indicador": "CO2 emissions (metric tons per capita)",
          "pais": "México",
          "periodo": "2010-01-01T00:00:00"
         },
         {
          "CO2": 17.44216612,
          "codigo": "USA",
          "nombre del indicador": "CO2 emissions (metric tons per capita)",
          "pais": "Estados Unidos",
          "periodo": "2010-01-01T00:00:00"
         },
         {
          "CO2": 15.63975962,
          "codigo": "CAN",
          "nombre del indicador": "CO2 emissions (metric tons per capita)",
          "pais": "Canada",
          "periodo": "2011-01-01T00:00:00"
         },
         {
          "CO2": 4.067755192,
          "codigo": "MEX",
          "nombre del indicador": "CO2 emissions (metric tons per capita)",
          "pais": "México",
          "periodo": "2011-01-01T00:00:00"
         },
         {
          "CO2": 16.97345609,
          "codigo": "USA",
          "nombre del indicador": "CO2 emissions (metric tons per capita)",
          "pais": "Estados Unidos",
          "periodo": "2011-01-01T00:00:00"
         },
         {
          "CO2": 14.89063564,
          "codigo": "CAN",
          "nombre del indicador": "CO2 emissions (metric tons per capita)",
          "pais": "Canada",
          "periodo": "2012-01-01T00:00:00"
         },
         {
          "CO2": 4.107686314,
          "codigo": "MEX",
          "nombre del indicador": "CO2 emissions (metric tons per capita)",
          "pais": "México",
          "periodo": "2012-01-01T00:00:00"
         },
         {
          "CO2": 16.304286800000003,
          "codigo": "USA",
          "nombre del indicador": "CO2 emissions (metric tons per capita)",
          "pais": "Estados Unidos",
          "periodo": "2012-01-01T00:00:00"
         },
         {
          "CO2": 14.71197182,
          "codigo": "CAN",
          "nombre del indicador": "CO2 emissions (metric tons per capita)",
          "pais": "Canada",
          "periodo": "2013-01-01T00:00:00"
         },
         {
          "CO2": 4.001602493,
          "codigo": "MEX",
          "nombre del indicador": "CO2 emissions (metric tons per capita)",
          "pais": "México",
          "periodo": "2013-01-01T00:00:00"
         },
         {
          "CO2": 16.31435182,
          "codigo": "USA",
          "nombre del indicador": "CO2 emissions (metric tons per capita)",
          "pais": "Estados Unidos",
          "periodo": "2013-01-01T00:00:00"
         },
         {
          "CO2": 15.11715878,
          "codigo": "CAN",
          "nombre del indicador": "CO2 emissions (metric tons per capita)",
          "pais": "Canada",
          "periodo": "2014-01-01T00:00:00"
         },
         {
          "CO2": 3.866241113,
          "codigo": "MEX",
          "nombre del indicador": "CO2 emissions (metric tons per capita)",
          "pais": "México",
          "periodo": "2014-01-01T00:00:00"
         },
         {
          "CO2": 16.49060839,
          "codigo": "USA",
          "nombre del indicador": "CO2 emissions (metric tons per capita)",
          "pais": "Estados Unidos",
          "periodo": "2014-01-01T00:00:00"
         }
        ]
       },
       "encoding": {
        "color": {
         "field": "codigo",
         "type": "nominal"
        },
        "x": {
         "field": "periodo",
         "title": "Año",
         "type": "temporal"
        },
        "y": {
         "field": "CO2",
         "type": "quantitative"
        }
       },
       "mark": "line"
      },
      "image/png": "[encoded data removed]",
      "text/plain": [
       "<VegaLite 2 object>\n",
       "\n",
       "If you see this message, it means the renderer has not been properly enabled\n",
       "for the frontend that you are using. For more information, see\n",
       "https://altair-viz.github.io/user_guide/troubleshooting.html\n"
      ]
     },
     "execution_count": 6,
     "metadata": {},
     "output_type": "execute_result"
    }
   ],
   "source": [
    "alt.Chart(datos).mark_line().encode(\n",
    "    x = alt.X('periodo:T', title = 'Año'),\n",
    "    y = alt.Y('CO2:Q'),\n",
    "    color = alt.Color('codigo:N')\n",
    ")"
   ]
  },
  {
   "cell_type": "markdown",
   "metadata": {},
   "source": [
    "Para agregar un título al gráfico solo hay que especificarlo en el método `.properties()`."
   ]
  },
  {
   "cell_type": "code",
   "execution_count": 7,
   "metadata": {},
   "outputs": [
    {
     "data": {
      "application/vnd.vegalite.v2+json": {
       "$schema": "https://vega.github.io/schema/vega-lite/v2.6.0.json",
       "config": {
        "view": {
         "height": 300,
         "width": 400
        }
       },
       "data": {
        "name": "data-42579047980a7c078844cc4e37df2248"
       },
       "datasets": {
        "data-42579047980a7c078844cc4e37df2248": [
         {
          "CO2": 10.77084729,
          "codigo": "CAN",
          "nombre del indicador": "CO2 emissions (metric tons per capita)",
          "pais": "Canada",
          "periodo": "1960-01-01T00:00:00"
         },
         {
          "CO2": 1.653382376,
          "codigo": "MEX",
          "nombre del indicador": "CO2 emissions (metric tons per capita)",
          "pais": "México",
          "periodo": "1960-01-01T00:00:00"
         },
         {
          "CO2": 15.99977916,
          "codigo": "USA",
          "nombre del indicador": "CO2 emissions (metric tons per capita)",
          "pais": "Estados Unidos",
          "periodo": "1960-01-01T00:00:00"
         },
         {
          "CO2": 10.62789765,
          "codigo": "CAN",
          "nombre del indicador": "CO2 emissions (metric tons per capita)",
          "pais": "Canada",
          "periodo": "1961-01-01T00:00:00"
         },
         {
          "CO2": 1.657749762,
          "codigo": "MEX",
          "nombre del indicador": "CO2 emissions (metric tons per capita)",
          "pais": "México",
          "periodo": "1961-01-01T00:00:00"
         },
         {
          "CO2": 15.68125552,
          "codigo": "USA",
          "nombre del indicador": "CO2 emissions (metric tons per capita)",
          "pais": "Estados Unidos",
          "periodo": "1961-01-01T00:00:00"
         },
         {
          "CO2": 11.13062748,
          "codigo": "CAN",
          "nombre del indicador": "CO2 emissions (metric tons per capita)",
          "pais": "Canada",
          "periodo": "1962-01-01T00:00:00"
         },
         {
          "CO2": 1.569744495,
          "codigo": "MEX",
          "nombre del indicador": "CO2 emissions (metric tons per capita)",
          "pais": "México",
          "periodo": "1962-01-01T00:00:00"
         },
         {
          "CO2": 16.0139375,
          "codigo": "USA",
          "nombre del indicador": "CO2 emissions (metric tons per capita)",
          "pais": "Estados Unidos",
          "periodo": "1962-01-01T00:00:00"
         },
         {
          "CO2": 11.1321024,
          "codigo": "CAN",
          "nombre del indicador": "CO2 emissions (metric tons per capita)",
          "pais": "Canada",
          "periodo": "1963-01-01T00:00:00"
         },
         {
          "CO2": 1.58230541,
          "codigo": "MEX",
          "nombre del indicador": "CO2 emissions (metric tons per capita)",
          "pais": "México",
          "periodo": "1963-01-01T00:00:00"
         },
         {
          "CO2": 16.48276215,
          "codigo": "USA",
          "nombre del indicador": "CO2 emissions (metric tons per capita)",
          "pais": "Estados Unidos",
          "periodo": "1963-01-01T00:00:00"
         },
         {
          "CO2": 12.3053704,
          "codigo": "CAN",
          "nombre del indicador": "CO2 emissions (metric tons per capita)",
          "pais": "Canada",
          "periodo": "1964-01-01T00:00:00"
         },
         {
          "CO2": 1.716861248,
          "codigo": "MEX",
          "nombre del indicador": "CO2 emissions (metric tons per capita)",
          "pais": "México",
          "periodo": "1964-01-01T00:00:00"
         },
         {
          "CO2": 16.96811858,
          "codigo": "USA",
          "nombre del indicador": "CO2 emissions (metric tons per capita)",
          "pais": "Estados Unidos",
          "periodo": "1964-01-01T00:00:00"
         },
         {
          "CO2": 12.81400147,
          "codigo": "CAN",
          "nombre del indicador": "CO2 emissions (metric tons per capita)",
          "pais": "Canada",
          "periodo": "1965-01-01T00:00:00"
         },
         {
          "CO2": 1.686277648,
          "codigo": "MEX",
          "nombre del indicador": "CO2 emissions (metric tons per capita)",
          "pais": "México",
          "periodo": "1965-01-01T00:00:00"
         },
         {
          "CO2": 17.45172525,
          "codigo": "USA",
          "nombre del indicador": "CO2 emissions (metric tons per capita)",
          "pais": "Estados Unidos",
          "periodo": "1965-01-01T00:00:00"
         },
         {
          "CO2": 12.93491815,
          "codigo": "CAN",
          "nombre del indicador": "CO2 emissions (metric tons per capita)",
          "pais": "Canada",
          "periodo": "1966-01-01T00:00:00"
         },
         {
          "CO2": 1.758940757,
          "codigo": "MEX",
          "nombre del indicador": "CO2 emissions (metric tons per capita)",
          "pais": "México",
          "periodo": "1966-01-01T00:00:00"
         },
         {
          "CO2": 18.12107301,
          "codigo": "USA",
          "nombre del indicador": "CO2 emissions (metric tons per capita)",
          "pais": "Estados Unidos",
          "periodo": "1966-01-01T00:00:00"
         },
         {
          "CO2": 13.8103546,
          "codigo": "CAN",
          "nombre del indicador": "CO2 emissions (metric tons per capita)",
          "pais": "Canada",
          "periodo": "1967-01-01T00:00:00"
         },
         {
          "CO2": 1.899688259,
          "codigo": "MEX",
          "nombre del indicador": "CO2 emissions (metric tons per capita)",
          "pais": "México",
          "periodo": "1967-01-01T00:00:00"
         },
         {
          "CO2": 18.59831788,
          "codigo": "USA",
          "nombre del indicador": "CO2 emissions (metric tons per capita)",
          "pais": "Estados Unidos",
          "periodo": "1967-01-01T00:00:00"
         },
         {
          "CO2": 14.6326452,
          "codigo": "CAN",
          "nombre del indicador": "CO2 emissions (metric tons per capita)",
          "pais": "Canada",
          "periodo": "1968-01-01T00:00:00"
         },
         {
          "CO2": 1.922298042,
          "codigo": "MEX",
          "nombre del indicador": "CO2 emissions (metric tons per capita)",
          "pais": "México",
          "periodo": "1968-01-01T00:00:00"
         },
         {
          "CO2": 19.08938916,
          "codigo": "USA",
          "nombre del indicador": "CO2 emissions (metric tons per capita)",
          "pais": "Estados Unidos",
          "periodo": "1968-01-01T00:00:00"
         },
         {
          "CO2": 14.61864861,
          "codigo": "CAN",
          "nombre del indicador": "CO2 emissions (metric tons per capita)",
          "pais": "Canada",
          "periodo": "1969-01-01T00:00:00"
         },
         {
          "CO2": 2.028564787,
          "codigo": "MEX",
          "nombre del indicador": "CO2 emissions (metric tons per capita)",
          "pais": "México",
          "periodo": "1969-01-01T00:00:00"
         },
         {
          "CO2": 19.85794566,
          "codigo": "USA",
          "nombre del indicador": "CO2 emissions (metric tons per capita)",
          "pais": "Estados Unidos",
          "periodo": "1969-01-01T00:00:00"
         },
         {
          "CO2": 16.01414875,
          "codigo": "CAN",
          "nombre del indicador": "CO2 emissions (metric tons per capita)",
          "pais": "Canada",
          "periodo": "1970-01-01T00:00:00"
         },
         {
          "CO2": 2.192453215,
          "codigo": "MEX",
          "nombre del indicador": "CO2 emissions (metric tons per capita)",
          "pais": "México",
          "periodo": "1970-01-01T00:00:00"
         },
         {
          "CO2": 21.11125227,
          "codigo": "USA",
          "nombre del indicador": "CO2 emissions (metric tons per capita)",
          "pais": "Estados Unidos",
          "periodo": "1970-01-01T00:00:00"
         },
         {
          "CO2": 16.29009027,
          "codigo": "CAN",
          "nombre del indicador": "CO2 emissions (metric tons per capita)",
          "pais": "Canada",
          "periodo": "1971-01-01T00:00:00"
         },
         {
          "CO2": 2.351864333,
          "codigo": "MEX",
          "nombre del indicador": "CO2 emissions (metric tons per capita)",
          "pais": "México",
          "periodo": "1971-01-01T00:00:00"
         },
         {
          "CO2": 20.98020348,
          "codigo": "USA",
          "nombre del indicador": "CO2 emissions (metric tons per capita)",
          "pais": "Estados Unidos",
          "periodo": "1971-01-01T00:00:00"
         },
         {
          "CO2": 17.329425,
          "codigo": "CAN",
          "nombre del indicador": "CO2 emissions (metric tons per capita)",
          "pais": "Canada",
          "periodo": "1972-01-01T00:00:00"
         },
         {
          "CO2": 2.387595326,
          "codigo": "MEX",
          "nombre del indicador": "CO2 emissions (metric tons per capita)",
          "pais": "México",
          "periodo": "1972-01-01T00:00:00"
         },
         {
          "CO2": 21.74864198,
          "codigo": "USA",
          "nombre del indicador": "CO2 emissions (metric tons per capita)",
          "pais": "Estados Unidos",
          "periodo": "1972-01-01T00:00:00"
         },
         {
          "CO2": 17.05995183,
          "codigo": "CAN",
          "nombre del indicador": "CO2 emissions (metric tons per capita)",
          "pais": "Canada",
          "periodo": "1973-01-01T00:00:00"
         },
         {
          "CO2": 2.5190521,
          "codigo": "MEX",
          "nombre del indicador": "CO2 emissions (metric tons per capita)",
          "pais": "México",
          "periodo": "1973-01-01T00:00:00"
         },
         {
          "CO2": 22.51058213,
          "codigo": "USA",
          "nombre del indicador": "CO2 emissions (metric tons per capita)",
          "pais": "Estados Unidos",
          "periodo": "1973-01-01T00:00:00"
         },
         {
          "CO2": 17.12344306,
          "codigo": "CAN",
          "nombre del indicador": "CO2 emissions (metric tons per capita)",
          "pais": "Canada",
          "periodo": "1974-01-01T00:00:00"
         },
         {
          "CO2": 2.623328776,
          "codigo": "MEX",
          "nombre del indicador": "CO2 emissions (metric tons per capita)",
          "pais": "México",
          "periodo": "1974-01-01T00:00:00"
         },
         {
          "CO2": 21.50293038,
          "codigo": "USA",
          "nombre del indicador": "CO2 emissions (metric tons per capita)",
          "pais": "Estados Unidos",
          "periodo": "1974-01-01T00:00:00"
         },
         {
          "CO2": 17.11161334,
          "codigo": "CAN",
          "nombre del indicador": "CO2 emissions (metric tons per capita)",
          "pais": "Canada",
          "periodo": "1975-01-01T00:00:00"
         },
         {
          "CO2": 2.7019188780000003,
          "codigo": "MEX",
          "nombre del indicador": "CO2 emissions (metric tons per capita)",
          "pais": "México",
          "periodo": "1975-01-01T00:00:00"
         },
         {
          "CO2": 20.40222407,
          "codigo": "USA",
          "nombre del indicador": "CO2 emissions (metric tons per capita)",
          "pais": "Estados Unidos",
          "periodo": "1975-01-01T00:00:00"
         },
         {
          "CO2": 16.97924845,
          "codigo": "CAN",
          "nombre del indicador": "CO2 emissions (metric tons per capita)",
          "pais": "Canada",
          "periodo": "1976-01-01T00:00:00"
         },
         {
          "CO2": 2.940391892,
          "codigo": "MEX",
          "nombre del indicador": "CO2 emissions (metric tons per capita)",
          "pais": "México",
          "periodo": "1976-01-01T00:00:00"
         },
         {
          "CO2": 21.15761537,
          "codigo": "USA",
          "nombre del indicador": "CO2 emissions (metric tons per capita)",
          "pais": "Estados Unidos",
          "periodo": "1976-01-01T00:00:00"
         },
         {
          "CO2": 17.15211666,
          "codigo": "CAN",
          "nombre del indicador": "CO2 emissions (metric tons per capita)",
          "pais": "Canada",
          "periodo": "1977-01-01T00:00:00"
         },
         {
          "CO2": 2.997045312,
          "codigo": "MEX",
          "nombre del indicador": "CO2 emissions (metric tons per capita)",
          "pais": "México",
          "periodo": "1977-01-01T00:00:00"
         },
         {
          "CO2": 21.53248401,
          "codigo": "USA",
          "nombre del indicador": "CO2 emissions (metric tons per capita)",
          "pais": "Estados Unidos",
          "periodo": "1977-01-01T00:00:00"
         },
         {
          "CO2": 17.30306507,
          "codigo": "CAN",
          "nombre del indicador": "CO2 emissions (metric tons per capita)",
          "pais": "Canada",
          "periodo": "1978-01-01T00:00:00"
         },
         {
          "CO2": 3.371456166,
          "codigo": "MEX",
          "nombre del indicador": "CO2 emissions (metric tons per capita)",
          "pais": "México",
          "periodo": "1978-01-01T00:00:00"
         },
         {
          "CO2": 21.97300469,
          "codigo": "USA",
          "nombre del indicador": "CO2 emissions (metric tons per capita)",
          "pais": "Estados Unidos",
          "periodo": "1978-01-01T00:00:00"
         },
         {
          "CO2": 18.2093278,
          "codigo": "CAN",
          "nombre del indicador": "CO2 emissions (metric tons per capita)",
          "pais": "Canada",
          "periodo": "1979-01-01T00:00:00"
         },
         {
          "CO2": 3.557455847,
          "codigo": "MEX",
          "nombre del indicador": "CO2 emissions (metric tons per capita)",
          "pais": "México",
          "periodo": "1979-01-01T00:00:00"
         },
         {
          "CO2": 21.78043698,
          "codigo": "USA",
          "nombre del indicador": "CO2 emissions (metric tons per capita)",
          "pais": "Estados Unidos",
          "periodo": "1979-01-01T00:00:00"
         },
         {
          "CO2": 18.02276896,
          "codigo": "CAN",
          "nombre del indicador": "CO2 emissions (metric tons per capita)",
          "pais": "Canada",
          "periodo": "1980-01-01T00:00:00"
         },
         {
          "CO2": 3.870391651,
          "codigo": "MEX",
          "nombre del indicador": "CO2 emissions (metric tons per capita)",
          "pais": "México",
          "periodo": "1980-01-01T00:00:00"
         },
         {
          "CO2": 20.78648774,
          "codigo": "USA",
          "nombre del indicador": "CO2 emissions (metric tons per capita)",
          "pais": "Estados Unidos",
          "periodo": "1980-01-01T00:00:00"
         },
         {
          "CO2": 17.26921369,
          "codigo": "CAN",
          "nombre del indicador": "CO2 emissions (metric tons per capita)",
          "pais": "Canada",
          "periodo": "1981-01-01T00:00:00"
         },
         {
          "CO2": 4.00790346,
          "codigo": "MEX",
          "nombre del indicador": "CO2 emissions (metric tons per capita)",
          "pais": "México",
          "periodo": "1981-01-01T00:00:00"
         },
         {
          "CO2": 19.76676417,
          "codigo": "USA",
          "nombre del indicador": "CO2 emissions (metric tons per capita)",
          "pais": "Estados Unidos",
          "periodo": "1981-01-01T00:00:00"
         },
         {
          "CO2": 16.45944925,
          "codigo": "CAN",
          "nombre del indicador": "CO2 emissions (metric tons per capita)",
          "pais": "Canada",
          "periodo": "1982-01-01T00:00:00"
         },
         {
          "CO2": 4.198720036,
          "codigo": "MEX",
          "nombre del indicador": "CO2 emissions (metric tons per capita)",
          "pais": "México",
          "periodo": "1982-01-01T00:00:00"
         },
         {
          "CO2": 18.59049523,
          "codigo": "USA",
          "nombre del indicador": "CO2 emissions (metric tons per capita)",
          "pais": "Estados Unidos",
          "periodo": "1982-01-01T00:00:00"
         },
         {
          "CO2": 16.0546492,
          "codigo": "CAN",
          "nombre del indicador": "CO2 emissions (metric tons per capita)",
          "pais": "Canada",
          "periodo": "1983-01-01T00:00:00"
         },
         {
          "CO2": 3.75277087,
          "codigo": "MEX",
          "nombre del indicador": "CO2 emissions (metric tons per capita)",
          "pais": "México",
          "periodo": "1983-01-01T00:00:00"
         },
         {
          "CO2": 18.57154371,
          "codigo": "USA",
          "nombre del indicador": "CO2 emissions (metric tons per capita)",
          "pais": "Estados Unidos",
          "periodo": "1983-01-01T00:00:00"
         },
         {
          "CO2": 16.55885484,
          "codigo": "CAN",
          "nombre del indicador": "CO2 emissions (metric tons per capita)",
          "pais": "Canada",
          "periodo": "1984-01-01T00:00:00"
         },
         {
          "CO2": 3.663535056,
          "codigo": "MEX",
          "nombre del indicador": "CO2 emissions (metric tons per capita)",
          "pais": "México",
          "periodo": "1984-01-01T00:00:00"
         },
         {
          "CO2": 18.97675027,
          "codigo": "USA",
          "nombre del indicador": "CO2 emissions (metric tons per capita)",
          "pais": "Estados Unidos",
          "periodo": "1984-01-01T00:00:00"
         },
         {
          "CO2": 16.27010385,
          "codigo": "CAN",
          "nombre del indicador": "CO2 emissions (metric tons per capita)",
          "pais": "Canada",
          "periodo": "1985-01-01T00:00:00"
         },
         {
          "CO2": 3.729299229,
          "codigo": "MEX",
          "nombre del indicador": "CO2 emissions (metric tons per capita)",
          "pais": "México",
          "periodo": "1985-01-01T00:00:00"
         },
         {
          "CO2": 18.88231274,
          "codigo": "USA",
          "nombre del indicador": "CO2 emissions (metric tons per capita)",
          "pais": "Estados Unidos",
          "periodo": "1985-01-01T00:00:00"
         },
         {
          "CO2": 15.45768406,
          "codigo": "CAN",
          "nombre del indicador": "CO2 emissions (metric tons per capita)",
          "pais": "Canada",
          "periodo": "1986-01-01T00:00:00"
         },
         {
          "CO2": 3.731708041,
          "codigo": "MEX",
          "nombre del indicador": "CO2 emissions (metric tons per capita)",
          "pais": "México",
          "periodo": "1986-01-01T00:00:00"
         },
         {
          "CO2": 18.72072272,
          "codigo": "USA",
          "nombre del indicador": "CO2 emissions (metric tons per capita)",
          "pais": "Estados Unidos",
          "periodo": "1986-01-01T00:00:00"
         },
         {
          "CO2": 16.24667458,
          "codigo": "CAN",
          "nombre del indicador": "CO2 emissions (metric tons per capita)",
          "pais": "Canada",
          "periodo": "1987-01-01T00:00:00"
         },
         {
          "CO2": 3.817953871,
          "codigo": "MEX",
          "nombre del indicador": "CO2 emissions (metric tons per capita)",
          "pais": "México",
          "periodo": "1987-01-01T00:00:00"
         },
         {
          "CO2": 19.35033442,
          "codigo": "USA",
          "nombre del indicador": "CO2 emissions (metric tons per capita)",
          "pais": "Estados Unidos",
          "periodo": "1987-01-01T00:00:00"
         },
         {
          "CO2": 16.95682428,
          "codigo": "CAN",
          "nombre del indicador": "CO2 emissions (metric tons per capita)",
          "pais": "Canada",
          "periodo": "1988-01-01T00:00:00"
         },
         {
          "CO2": 3.740894072,
          "codigo": "MEX",
          "nombre del indicador": "CO2 emissions (metric tons per capita)",
          "pais": "México",
          "periodo": "1988-01-01T00:00:00"
         },
         {
          "CO2": 20.01041341,
          "codigo": "USA",
          "nombre del indicador": "CO2 emissions (metric tons per capita)",
          "pais": "Estados Unidos",
          "periodo": "1988-01-01T00:00:00"
         },
         {
          "CO2": 16.92078279,
          "codigo": "CAN",
          "nombre del indicador": "CO2 emissions (metric tons per capita)",
          "pais": "Canada",
          "periodo": "1989-01-01T00:00:00"
         },
         {
          "CO2": 4.323620233,
          "codigo": "MEX",
          "nombre del indicador": "CO2 emissions (metric tons per capita)",
          "pais": "México",
          "periodo": "1989-01-01T00:00:00"
         },
         {
          "CO2": 20.07576978,
          "codigo": "USA",
          "nombre del indicador": "CO2 emissions (metric tons per capita)",
          "pais": "Estados Unidos",
          "periodo": "1989-01-01T00:00:00"
         },
         {
          "CO2": 15.65907038,
          "codigo": "CAN",
          "nombre del indicador": "CO2 emissions (metric tons per capita)",
          "pais": "Canada",
          "periodo": "1990-01-01T00:00:00"
         },
         {
          "CO2": 3.730500739,
          "codigo": "MEX",
          "nombre del indicador": "CO2 emissions (metric tons per capita)",
          "pais": "México",
          "periodo": "1990-01-01T00:00:00"
         },
         {
          "CO2": 19.32275118,
          "codigo": "USA",
          "nombre del indicador": "CO2 emissions (metric tons per capita)",
          "pais": "Estados Unidos",
          "periodo": "1990-01-01T00:00:00"
         },
         {
          "CO2": 15.14925974,
          "codigo": "CAN",
          "nombre del indicador": "CO2 emissions (metric tons per capita)",
          "pais": "Canada",
          "periodo": "1991-01-01T00:00:00"
         },
         {
          "CO2": 3.812485098,
          "codigo": "MEX",
          "nombre del indicador": "CO2 emissions (metric tons per capita)",
          "pais": "México",
          "periodo": "1991-01-01T00:00:00"
         },
         {
          "CO2": 19.05616319,
          "codigo": "USA",
          "nombre del indicador": "CO2 emissions (metric tons per capita)",
          "pais": "Estados Unidos",
          "periodo": "1991-01-01T00:00:00"
         },
         {
          "CO2": 15.46230657,
          "codigo": "CAN",
          "nombre del indicador": "CO2 emissions (metric tons per capita)",
          "pais": "Canada",
          "periodo": "1992-01-01T00:00:00"
         },
         {
          "CO2": 3.767921409,
          "codigo": "MEX",
          "nombre del indicador": "CO2 emissions (metric tons per capita)",
          "pais": "México",
          "periodo": "1992-01-01T00:00:00"
         },
         {
          "CO2": 19.13943728,
          "codigo": "USA",
          "nombre del indicador": "CO2 emissions (metric tons per capita)",
          "pais": "Estados Unidos",
          "periodo": "1992-01-01T00:00:00"
         },
         {
          "CO2": 15.45362956,
          "codigo": "CAN",
          "nombre del indicador": "CO2 emissions (metric tons per capita)",
          "pais": "Canada",
          "periodo": "1993-01-01T00:00:00"
         },
         {
          "CO2": 3.746878153,
          "codigo": "MEX",
          "nombre del indicador": "CO2 emissions (metric tons per capita)",
          "pais": "México",
          "periodo": "1993-01-01T00:00:00"
         },
         {
          "CO2": 19.34708291,
          "codigo": "USA",
          "nombre del indicador": "CO2 emissions (metric tons per capita)",
          "pais": "Estados Unidos",
          "periodo": "1993-01-01T00:00:00"
         },
         {
          "CO2": 15.6928759,
          "codigo": "CAN",
          "nombre del indicador": "CO2 emissions (metric tons per capita)",
          "pais": "Canada",
          "periodo": "1994-01-01T00:00:00"
         },
         {
          "CO2": 3.820068506,
          "codigo": "MEX",
          "nombre del indicador": "CO2 emissions (metric tons per capita)",
          "pais": "México",
          "periodo": "1994-01-01T00:00:00"
         },
         {
          "CO2": 19.36089205,
          "codigo": "USA",
          "nombre del indicador": "CO2 emissions (metric tons per capita)",
          "pais": "Estados Unidos",
          "periodo": "1994-01-01T00:00:00"
         },
         {
          "CO2": 15.93097506,
          "codigo": "CAN",
          "nombre del indicador": "CO2 emissions (metric tons per capita)",
          "pais": "Canada",
          "periodo": "1995-01-01T00:00:00"
         },
         {
          "CO2": 3.538889585,
          "codigo": "MEX",
          "nombre del indicador": "CO2 emissions (metric tons per capita)",
          "pais": "México",
          "periodo": "1995-01-01T00:00:00"
         },
         {
          "CO2": 19.27654526,
          "codigo": "USA",
          "nombre del indicador": "CO2 emissions (metric tons per capita)",
          "pais": "Estados Unidos",
          "periodo": "1995-01-01T00:00:00"
         },
         {
          "CO2": 16.15737155,
          "codigo": "CAN",
          "nombre del indicador": "CO2 emissions (metric tons per capita)",
          "pais": "Canada",
          "periodo": "1996-01-01T00:00:00"
         },
         {
          "CO2": 3.620305649,
          "codigo": "MEX",
          "nombre del indicador": "CO2 emissions (metric tons per capita)",
          "pais": "México",
          "periodo": "1996-01-01T00:00:00"
         },
         {
          "CO2": 19.49602474,
          "codigo": "USA",
          "nombre del indicador": "CO2 emissions (metric tons per capita)",
          "pais": "Estados Unidos",
          "periodo": "1996-01-01T00:00:00"
         },
         {
          "CO2": 16.51685906,
          "codigo": "CAN",
          "nombre del indicador": "CO2 emissions (metric tons per capita)",
          "pais": "Canada",
          "periodo": "1997-01-01T00:00:00"
         },
         {
          "CO2": 3.801014279,
          "codigo": "MEX",
          "nombre del indicador": "CO2 emissions (metric tons per capita)",
          "pais": "México",
          "periodo": "1997-01-01T00:00:00"
         },
         {
          "CO2": 19.69036318,
          "codigo": "USA",
          "nombre del indicador": "CO2 emissions (metric tons per capita)",
          "pais": "Estados Unidos",
          "periodo": "1997-01-01T00:00:00"
         },
         {
          "CO2": 16.7460786,
          "codigo": "CAN",
          "nombre del indicador": "CO2 emissions (metric tons per capita)",
          "pais": "Canada",
          "periodo": "1998-01-01T00:00:00"
         },
         {
          "CO2": 3.937272843,
          "codigo": "MEX",
          "nombre del indicador": "CO2 emissions (metric tons per capita)",
          "pais": "México",
          "periodo": "1998-01-01T00:00:00"
         },
         {
          "CO2": 19.5792362,
          "codigo": "USA",
          "nombre del indicador": "CO2 emissions (metric tons per capita)",
          "pais": "Estados Unidos",
          "periodo": "1998-01-01T00:00:00"
         },
         {
          "CO2": 16.89846016,
          "codigo": "CAN",
          "nombre del indicador": "CO2 emissions (metric tons per capita)",
          "pais": "Canada",
          "periodo": "1999-01-01T00:00:00"
         },
         {
          "CO2": 3.904180812,
          "codigo": "MEX",
          "nombre del indicador": "CO2 emissions (metric tons per capita)",
          "pais": "México",
          "periodo": "1999-01-01T00:00:00"
         },
         {
          "CO2": 19.72716951,
          "codigo": "USA",
          "nombre del indicador": "CO2 emissions (metric tons per capita)",
          "pais": "Estados Unidos",
          "periodo": "1999-01-01T00:00:00"
         },
         {
          "CO2": 17.36711469,
          "codigo": "CAN",
          "nombre del indicador": "CO2 emissions (metric tons per capita)",
          "pais": "Canada",
          "periodo": "2000-01-01T00:00:00"
         },
         {
          "CO2": 3.916478182,
          "codigo": "MEX",
          "nombre del indicador": "CO2 emissions (metric tons per capita)",
          "pais": "México",
          "periodo": "2000-01-01T00:00:00"
         },
         {
          "CO2": 20.17875051,
          "codigo": "USA",
          "nombre del indicador": "CO2 emissions (metric tons per capita)",
          "pais": "Estados Unidos",
          "periodo": "2000-01-01T00:00:00"
         },
         {
          "CO2": 16.98502952,
          "codigo": "CAN",
          "nombre del indicador": "CO2 emissions (metric tons per capita)",
          "pais": "Canada",
          "periodo": "2001-01-01T00:00:00"
         },
         {
          "CO2": 4.006881616,
          "codigo": "MEX",
          "nombre del indicador": "CO2 emissions (metric tons per capita)",
          "pais": "México",
          "periodo": "2001-01-01T00:00:00"
         },
         {
          "CO2": 19.63650507,
          "codigo": "USA",
          "nombre del indicador": "CO2 emissions (metric tons per capita)",
          "pais": "Estados Unidos",
          "periodo": "2001-01-01T00:00:00"
         },
         {
          "CO2": 16.55937785,
          "codigo": "CAN",
          "nombre del indicador": "CO2 emissions (metric tons per capita)",
          "pais": "Canada",
          "periodo": "2002-01-01T00:00:00"
         },
         {
          "CO2": 3.970934988,
          "codigo": "MEX",
          "nombre del indicador": "CO2 emissions (metric tons per capita)",
          "pais": "México",
          "periodo": "2002-01-01T00:00:00"
         },
         {
          "CO2": 19.61340408,
          "codigo": "USA",
          "nombre del indicador": "CO2 emissions (metric tons per capita)",
          "pais": "Estados Unidos",
          "periodo": "2002-01-01T00:00:00"
         },
         {
          "CO2": 17.46119914,
          "codigo": "CAN",
          "nombre del indicador": "CO2 emissions (metric tons per capita)",
          "pais": "Canada",
          "periodo": "2003-01-01T00:00:00"
         },
         {
          "CO2": 4.16704652,
          "codigo": "MEX",
          "nombre del indicador": "CO2 emissions (metric tons per capita)",
          "pais": "México",
          "periodo": "2003-01-01T00:00:00"
         },
         {
          "CO2": 19.56410453,
          "codigo": "USA",
          "nombre del indicador": "CO2 emissions (metric tons per capita)",
          "pais": "Estados Unidos",
          "periodo": "2003-01-01T00:00:00"
         },
         {
          "CO2": 17.25891114,
          "codigo": "CAN",
          "nombre del indicador": "CO2 emissions (metric tons per capita)",
          "pais": "Canada",
          "periodo": "2004-01-01T00:00:00"
         },
         {
          "CO2": 4.124551403,
          "codigo": "MEX",
          "nombre del indicador": "CO2 emissions (metric tons per capita)",
          "pais": "México",
          "periodo": "2004-01-01T00:00:00"
         },
         {
          "CO2": 19.65837118,
          "codigo": "USA",
          "nombre del indicador": "CO2 emissions (metric tons per capita)",
          "pais": "Estados Unidos",
          "periodo": "2004-01-01T00:00:00"
         },
         {
          "CO2": 17.25108328,
          "codigo": "CAN",
          "nombre del indicador": "CO2 emissions (metric tons per capita)",
          "pais": "Canada",
          "periodo": "2005-01-01T00:00:00"
         },
         {
          "CO2": 4.299365235,
          "codigo": "MEX",
          "nombre del indicador": "CO2 emissions (metric tons per capita)",
          "pais": "México",
          "periodo": "2005-01-01T00:00:00"
         },
         {
          "CO2": 19.59188523,
          "codigo": "USA",
          "nombre del indicador": "CO2 emissions (metric tons per capita)",
          "pais": "Estados Unidos",
          "periodo": "2005-01-01T00:00:00"
         },
         {
          "CO2": 16.69669436,
          "codigo": "CAN",
          "nombre del indicador": "CO2 emissions (metric tons per capita)",
          "pais": "Canada",
          "periodo": "2006-01-01T00:00:00"
         },
         {
          "CO2": 4.353173578,
          "codigo": "MEX",
          "nombre del indicador": "CO2 emissions (metric tons per capita)",
          "pais": "México",
          "periodo": "2006-01-01T00:00:00"
         },
         {
          "CO2": 19.09406652,
          "codigo": "USA",
          "nombre del indicador": "CO2 emissions (metric tons per capita)",
          "pais": "Estados Unidos",
          "periodo": "2006-01-01T00:00:00"
         },
         {
          "CO2": 16.85588274,
          "codigo": "CAN",
          "nombre del indicador": "CO2 emissions (metric tons per capita)",
          "pais": "Canada",
          "periodo": "2007-01-01T00:00:00"
         },
         {
          "CO2": 4.296635487,
          "codigo": "MEX",
          "nombre del indicador": "CO2 emissions (metric tons per capita)",
          "pais": "México",
          "periodo": "2007-01-01T00:00:00"
         },
         {
          "CO2": 19.21789784,
          "codigo": "USA",
          "nombre del indicador": "CO2 emissions (metric tons per capita)",
          "pais": "Estados Unidos",
          "periodo": "2007-01-01T00:00:00"
         },
         {
          "CO2": 16.87519788,
          "codigo": "CAN",
          "nombre del indicador": "CO2 emissions (metric tons per capita)",
          "pais": "Canada",
          "periodo": "2008-01-01T00:00:00"
         },
         {
          "CO2": 4.339644436,
          "codigo": "MEX",
          "nombre del indicador": "CO2 emissions (metric tons per capita)",
          "pais": "México",
          "periodo": "2008-01-01T00:00:00"
         },
         {
          "CO2": 18.46176387,
          "codigo": "USA",
          "nombre del indicador": "CO2 emissions (metric tons per capita)",
          "pais": "Estados Unidos",
          "periodo": "2008-01-01T00:00:00"
         },
         {
          "CO2": 15.96156016,
          "codigo": "CAN",
          "nombre del indicador": "CO2 emissions (metric tons per capita)",
          "pais": "Canada",
          "periodo": "2009-01-01T00:00:00"
         },
         {
          "CO2": 4.120600766,
          "codigo": "MEX",
          "nombre del indicador": "CO2 emissions (metric tons per capita)",
          "pais": "México",
          "periodo": "2009-01-01T00:00:00"
         },
         {
          "CO2": 17.15773779,
          "codigo": "USA",
          "nombre del indicador": "CO2 emissions (metric tons per capita)",
          "pais": "Estados Unidos",
          "periodo": "2009-01-01T00:00:00"
         },
         {
          "CO2": 15.723167000000002,
          "codigo": "CAN",
          "nombre del indicador": "CO2 emissions (metric tons per capita)",
          "pais": "Canada",
          "periodo": "2010-01-01T00:00:00"
         },
         {
          "CO2": 3.957657664,
          "codigo": "MEX",
          "nombre del indicador": "CO2 emissions (metric tons per capita)",
          "pais": "México",
          "periodo": "2010-01-01T00:00:00"
         },
         {
          "CO2": 17.44216612,
          "codigo": "USA",
          "nombre del indicador": "CO2 emissions (metric tons per capita)",
          "pais": "Estados Unidos",
          "periodo": "2010-01-01T00:00:00"
         },
         {
          "CO2": 15.63975962,
          "codigo": "CAN",
          "nombre del indicador": "CO2 emissions (metric tons per capita)",
          "pais": "Canada",
          "periodo": "2011-01-01T00:00:00"
         },
         {
          "CO2": 4.067755192,
          "codigo": "MEX",
          "nombre del indicador": "CO2 emissions (metric tons per capita)",
          "pais": "México",
          "periodo": "2011-01-01T00:00:00"
         },
         {
          "CO2": 16.97345609,
          "codigo": "USA",
          "nombre del indicador": "CO2 emissions (metric tons per capita)",
          "pais": "Estados Unidos",
          "periodo": "2011-01-01T00:00:00"
         },
         {
          "CO2": 14.89063564,
          "codigo": "CAN",
          "nombre del indicador": "CO2 emissions (metric tons per capita)",
          "pais": "Canada",
          "periodo": "2012-01-01T00:00:00"
         },
         {
          "CO2": 4.107686314,
          "codigo": "MEX",
          "nombre del indicador": "CO2 emissions (metric tons per capita)",
          "pais": "México",
          "periodo": "2012-01-01T00:00:00"
         },
         {
          "CO2": 16.304286800000003,
          "codigo": "USA",
          "nombre del indicador": "CO2 emissions (metric tons per capita)",
          "pais": "Estados Unidos",
          "periodo": "2012-01-01T00:00:00"
         },
         {
          "CO2": 14.71197182,
          "codigo": "CAN",
          "nombre del indicador": "CO2 emissions (metric tons per capita)",
          "pais": "Canada",
          "periodo": "2013-01-01T00:00:00"
         },
         {
          "CO2": 4.001602493,
          "codigo": "MEX",
          "nombre del indicador": "CO2 emissions (metric tons per capita)",
          "pais": "México",
          "periodo": "2013-01-01T00:00:00"
         },
         {
          "CO2": 16.31435182,
          "codigo": "USA",
          "nombre del indicador": "CO2 emissions (metric tons per capita)",
          "pais": "Estados Unidos",
          "periodo": "2013-01-01T00:00:00"
         },
         {
          "CO2": 15.11715878,
          "codigo": "CAN",
          "nombre del indicador": "CO2 emissions (metric tons per capita)",
          "pais": "Canada",
          "periodo": "2014-01-01T00:00:00"
         },
         {
          "CO2": 3.866241113,
          "codigo": "MEX",
          "nombre del indicador": "CO2 emissions (metric tons per capita)",
          "pais": "México",
          "periodo": "2014-01-01T00:00:00"
         },
         {
          "CO2": 16.49060839,
          "codigo": "USA",
          "nombre del indicador": "CO2 emissions (metric tons per capita)",
          "pais": "Estados Unidos",
          "periodo": "2014-01-01T00:00:00"
         }
        ]
       },
       "encoding": {
        "color": {
         "field": "codigo",
         "type": "nominal"
        },
        "x": {
         "field": "periodo",
         "title": "Año",
         "type": "temporal"
        },
        "y": {
         "field": "CO2",
         "type": "quantitative"
        }
       },
       "mark": "line",
       "title": "Emisiones de CO2 (toneladas metricas per capita)"
      },
      "image/png": "[encoded data removed]",
      "text/plain": [
       "<VegaLite 2 object>\n",
       "\n",
       "If you see this message, it means the renderer has not been properly enabled\n",
       "for the frontend that you are using. For more information, see\n",
       "https://altair-viz.github.io/user_guide/troubleshooting.html\n"
      ]
     },
     "execution_count": 7,
     "metadata": {},
     "output_type": "execute_result"
    }
   ],
   "source": [
    "alt.Chart(datos).mark_line().encode(\n",
    "    x = alt.X('periodo:T', title = 'Año'),\n",
    "    y = alt.Y('CO2:Q'),\n",
    "    color = alt.Color('codigo:N')\n",
    ").properties(\n",
    "    title = \"Emisiones de CO2 (toneladas metricas per capita)\"\n",
    ")"
   ]
  },
  {
   "cell_type": "markdown",
   "metadata": {},
   "source": [
    "Las dimensiones de tu gráfico también las puedes especificar en `.properties()` bajo los argumentos `width` y `height`, lo largo y lo alto, respectivamente."
   ]
  },
  {
   "cell_type": "code",
   "execution_count": 10,
   "metadata": {},
   "outputs": [
    {
     "data": {
      "application/vnd.vegalite.v2+json": {
       "$schema": "https://vega.github.io/schema/vega-lite/v2.6.0.json",
       "config": {
        "view": {
         "height": 300,
         "width": 400
        }
       },
       "data": {
        "name": "data-42579047980a7c078844cc4e37df2248"
       },
       "datasets": {
        "data-42579047980a7c078844cc4e37df2248": [
         {
          "CO2": 10.77084729,
          "codigo": "CAN",
          "nombre del indicador": "CO2 emissions (metric tons per capita)",
          "pais": "Canada",
          "periodo": "1960-01-01T00:00:00"
         },
         {
          "CO2": 1.653382376,
          "codigo": "MEX",
          "nombre del indicador": "CO2 emissions (metric tons per capita)",
          "pais": "México",
          "periodo": "1960-01-01T00:00:00"
         },
         {
          "CO2": 15.99977916,
          "codigo": "USA",
          "nombre del indicador": "CO2 emissions (metric tons per capita)",
          "pais": "Estados Unidos",
          "periodo": "1960-01-01T00:00:00"
         },
         {
          "CO2": 10.62789765,
          "codigo": "CAN",
          "nombre del indicador": "CO2 emissions (metric tons per capita)",
          "pais": "Canada",
          "periodo": "1961-01-01T00:00:00"
         },
         {
          "CO2": 1.657749762,
          "codigo": "MEX",
          "nombre del indicador": "CO2 emissions (metric tons per capita)",
          "pais": "México",
          "periodo": "1961-01-01T00:00:00"
         },
         {
          "CO2": 15.68125552,
          "codigo": "USA",
          "nombre del indicador": "CO2 emissions (metric tons per capita)",
          "pais": "Estados Unidos",
          "periodo": "1961-01-01T00:00:00"
         },
         {
          "CO2": 11.13062748,
          "codigo": "CAN",
          "nombre del indicador": "CO2 emissions (metric tons per capita)",
          "pais": "Canada",
          "periodo": "1962-01-01T00:00:00"
         },
         {
          "CO2": 1.569744495,
          "codigo": "MEX",
          "nombre del indicador": "CO2 emissions (metric tons per capita)",
          "pais": "México",
          "periodo": "1962-01-01T00:00:00"
         },
         {
          "CO2": 16.0139375,
          "codigo": "USA",
          "nombre del indicador": "CO2 emissions (metric tons per capita)",
          "pais": "Estados Unidos",
          "periodo": "1962-01-01T00:00:00"
         },
         {
          "CO2": 11.1321024,
          "codigo": "CAN",
          "nombre del indicador": "CO2 emissions (metric tons per capita)",
          "pais": "Canada",
          "periodo": "1963-01-01T00:00:00"
         },
         {
          "CO2": 1.58230541,
          "codigo": "MEX",
          "nombre del indicador": "CO2 emissions (metric tons per capita)",
          "pais": "México",
          "periodo": "1963-01-01T00:00:00"
         },
         {
          "CO2": 16.48276215,
          "codigo": "USA",
          "nombre del indicador": "CO2 emissions (metric tons per capita)",
          "pais": "Estados Unidos",
          "periodo": "1963-01-01T00:00:00"
         },
         {
          "CO2": 12.3053704,
          "codigo": "CAN",
          "nombre del indicador": "CO2 emissions (metric tons per capita)",
          "pais": "Canada",
          "periodo": "1964-01-01T00:00:00"
         },
         {
          "CO2": 1.716861248,
          "codigo": "MEX",
          "nombre del indicador": "CO2 emissions (metric tons per capita)",
          "pais": "México",
          "periodo": "1964-01-01T00:00:00"
         },
         {
          "CO2": 16.96811858,
          "codigo": "USA",
          "nombre del indicador": "CO2 emissions (metric tons per capita)",
          "pais": "Estados Unidos",
          "periodo": "1964-01-01T00:00:00"
         },
         {
          "CO2": 12.81400147,
          "codigo": "CAN",
          "nombre del indicador": "CO2 emissions (metric tons per capita)",
          "pais": "Canada",
          "periodo": "1965-01-01T00:00:00"
         },
         {
          "CO2": 1.686277648,
          "codigo": "MEX",
          "nombre del indicador": "CO2 emissions (metric tons per capita)",
          "pais": "México",
          "periodo": "1965-01-01T00:00:00"
         },
         {
          "CO2": 17.45172525,
          "codigo": "USA",
          "nombre del indicador": "CO2 emissions (metric tons per capita)",
          "pais": "Estados Unidos",
          "periodo": "1965-01-01T00:00:00"
         },
         {
          "CO2": 12.93491815,
          "codigo": "CAN",
          "nombre del indicador": "CO2 emissions (metric tons per capita)",
          "pais": "Canada",
          "periodo": "1966-01-01T00:00:00"
         },
         {
          "CO2": 1.758940757,
          "codigo": "MEX",
          "nombre del indicador": "CO2 emissions (metric tons per capita)",
          "pais": "México",
          "periodo": "1966-01-01T00:00:00"
         },
         {
          "CO2": 18.12107301,
          "codigo": "USA",
          "nombre del indicador": "CO2 emissions (metric tons per capita)",
          "pais": "Estados Unidos",
          "periodo": "1966-01-01T00:00:00"
         },
         {
          "CO2": 13.8103546,
          "codigo": "CAN",
          "nombre del indicador": "CO2 emissions (metric tons per capita)",
          "pais": "Canada",
          "periodo": "1967-01-01T00:00:00"
         },
         {
          "CO2": 1.899688259,
          "codigo": "MEX",
          "nombre del indicador": "CO2 emissions (metric tons per capita)",
          "pais": "México",
          "periodo": "1967-01-01T00:00:00"
         },
         {
          "CO2": 18.59831788,
          "codigo": "USA",
          "nombre del indicador": "CO2 emissions (metric tons per capita)",
          "pais": "Estados Unidos",
          "periodo": "1967-01-01T00:00:00"
         },
         {
          "CO2": 14.6326452,
          "codigo": "CAN",
          "nombre del indicador": "CO2 emissions (metric tons per capita)",
          "pais": "Canada",
          "periodo": "1968-01-01T00:00:00"
         },
         {
          "CO2": 1.922298042,
          "codigo": "MEX",
          "nombre del indicador": "CO2 emissions (metric tons per capita)",
          "pais": "México",
          "periodo": "1968-01-01T00:00:00"
         },
         {
          "CO2": 19.08938916,
          "codigo": "USA",
          "nombre del indicador": "CO2 emissions (metric tons per capita)",
          "pais": "Estados Unidos",
          "periodo": "1968-01-01T00:00:00"
         },
         {
          "CO2": 14.61864861,
          "codigo": "CAN",
          "nombre del indicador": "CO2 emissions (metric tons per capita)",
          "pais": "Canada",
          "periodo": "1969-01-01T00:00:00"
         },
         {
          "CO2": 2.028564787,
          "codigo": "MEX",
          "nombre del indicador": "CO2 emissions (metric tons per capita)",
          "pais": "México",
          "periodo": "1969-01-01T00:00:00"
         },
         {
          "CO2": 19.85794566,
          "codigo": "USA",
          "nombre del indicador": "CO2 emissions (metric tons per capita)",
          "pais": "Estados Unidos",
          "periodo": "1969-01-01T00:00:00"
         },
         {
          "CO2": 16.01414875,
          "codigo": "CAN",
          "nombre del indicador": "CO2 emissions (metric tons per capita)",
          "pais": "Canada",
          "periodo": "1970-01-01T00:00:00"
         },
         {
          "CO2": 2.192453215,
          "codigo": "MEX",
          "nombre del indicador": "CO2 emissions (metric tons per capita)",
          "pais": "México",
          "periodo": "1970-01-01T00:00:00"
         },
         {
          "CO2": 21.11125227,
          "codigo": "USA",
          "nombre del indicador": "CO2 emissions (metric tons per capita)",
          "pais": "Estados Unidos",
          "periodo": "1970-01-01T00:00:00"
         },
         {
          "CO2": 16.29009027,
          "codigo": "CAN",
          "nombre del indicador": "CO2 emissions (metric tons per capita)",
          "pais": "Canada",
          "periodo": "1971-01-01T00:00:00"
         },
         {
          "CO2": 2.351864333,
          "codigo": "MEX",
          "nombre del indicador": "CO2 emissions (metric tons per capita)",
          "pais": "México",
          "periodo": "1971-01-01T00:00:00"
         },
         {
          "CO2": 20.98020348,
          "codigo": "USA",
          "nombre del indicador": "CO2 emissions (metric tons per capita)",
          "pais": "Estados Unidos",
          "periodo": "1971-01-01T00:00:00"
         },
         {
          "CO2": 17.329425,
          "codigo": "CAN",
          "nombre del indicador": "CO2 emissions (metric tons per capita)",
          "pais": "Canada",
          "periodo": "1972-01-01T00:00:00"
         },
         {
          "CO2": 2.387595326,
          "codigo": "MEX",
          "nombre del indicador": "CO2 emissions (metric tons per capita)",
          "pais": "México",
          "periodo": "1972-01-01T00:00:00"
         },
         {
          "CO2": 21.74864198,
          "codigo": "USA",
          "nombre del indicador": "CO2 emissions (metric tons per capita)",
          "pais": "Estados Unidos",
          "periodo": "1972-01-01T00:00:00"
         },
         {
          "CO2": 17.05995183,
          "codigo": "CAN",
          "nombre del indicador": "CO2 emissions (metric tons per capita)",
          "pais": "Canada",
          "periodo": "1973-01-01T00:00:00"
         },
         {
          "CO2": 2.5190521,
          "codigo": "MEX",
          "nombre del indicador": "CO2 emissions (metric tons per capita)",
          "pais": "México",
          "periodo": "1973-01-01T00:00:00"
         },
         {
          "CO2": 22.51058213,
          "codigo": "USA",
          "nombre del indicador": "CO2 emissions (metric tons per capita)",
          "pais": "Estados Unidos",
          "periodo": "1973-01-01T00:00:00"
         },
         {
          "CO2": 17.12344306,
          "codigo": "CAN",
          "nombre del indicador": "CO2 emissions (metric tons per capita)",
          "pais": "Canada",
          "periodo": "1974-01-01T00:00:00"
         },
         {
          "CO2": 2.623328776,
          "codigo": "MEX",
          "nombre del indicador": "CO2 emissions (metric tons per capita)",
          "pais": "México",
          "periodo": "1974-01-01T00:00:00"
         },
         {
          "CO2": 21.50293038,
          "codigo": "USA",
          "nombre del indicador": "CO2 emissions (metric tons per capita)",
          "pais": "Estados Unidos",
          "periodo": "1974-01-01T00:00:00"
         },
         {
          "CO2": 17.11161334,
          "codigo": "CAN",
          "nombre del indicador": "CO2 emissions (metric tons per capita)",
          "pais": "Canada",
          "periodo": "1975-01-01T00:00:00"
         },
         {
          "CO2": 2.7019188780000003,
          "codigo": "MEX",
          "nombre del indicador": "CO2 emissions (metric tons per capita)",
          "pais": "México",
          "periodo": "1975-01-01T00:00:00"
         },
         {
          "CO2": 20.40222407,
          "codigo": "USA",
          "nombre del indicador": "CO2 emissions (metric tons per capita)",
          "pais": "Estados Unidos",
          "periodo": "1975-01-01T00:00:00"
         },
         {
          "CO2": 16.97924845,
          "codigo": "CAN",
          "nombre del indicador": "CO2 emissions (metric tons per capita)",
          "pais": "Canada",
          "periodo": "1976-01-01T00:00:00"
         },
         {
          "CO2": 2.940391892,
          "codigo": "MEX",
          "nombre del indicador": "CO2 emissions (metric tons per capita)",
          "pais": "México",
          "periodo": "1976-01-01T00:00:00"
         },
         {
          "CO2": 21.15761537,
          "codigo": "USA",
          "nombre del indicador": "CO2 emissions (metric tons per capita)",
          "pais": "Estados Unidos",
          "periodo": "1976-01-01T00:00:00"
         },
         {
          "CO2": 17.15211666,
          "codigo": "CAN",
          "nombre del indicador": "CO2 emissions (metric tons per capita)",
          "pais": "Canada",
          "periodo": "1977-01-01T00:00:00"
         },
         {
          "CO2": 2.997045312,
          "codigo": "MEX",
          "nombre del indicador": "CO2 emissions (metric tons per capita)",
          "pais": "México",
          "periodo": "1977-01-01T00:00:00"
         },
         {
          "CO2": 21.53248401,
          "codigo": "USA",
          "nombre del indicador": "CO2 emissions (metric tons per capita)",
          "pais": "Estados Unidos",
          "periodo": "1977-01-01T00:00:00"
         },
         {
          "CO2": 17.30306507,
          "codigo": "CAN",
          "nombre del indicador": "CO2 emissions (metric tons per capita)",
          "pais": "Canada",
          "periodo": "1978-01-01T00:00:00"
         },
         {
          "CO2": 3.371456166,
          "codigo": "MEX",
          "nombre del indicador": "CO2 emissions (metric tons per capita)",
          "pais": "México",
          "periodo": "1978-01-01T00:00:00"
         },
         {
          "CO2": 21.97300469,
          "codigo": "USA",
          "nombre del indicador": "CO2 emissions (metric tons per capita)",
          "pais": "Estados Unidos",
          "periodo": "1978-01-01T00:00:00"
         },
         {
          "CO2": 18.2093278,
          "codigo": "CAN",
          "nombre del indicador": "CO2 emissions (metric tons per capita)",
          "pais": "Canada",
          "periodo": "1979-01-01T00:00:00"
         },
         {
          "CO2": 3.557455847,
          "codigo": "MEX",
          "nombre del indicador": "CO2 emissions (metric tons per capita)",
          "pais": "México",
          "periodo": "1979-01-01T00:00:00"
         },
         {
          "CO2": 21.78043698,
          "codigo": "USA",
          "nombre del indicador": "CO2 emissions (metric tons per capita)",
          "pais": "Estados Unidos",
          "periodo": "1979-01-01T00:00:00"
         },
         {
          "CO2": 18.02276896,
          "codigo": "CAN",
          "nombre del indicador": "CO2 emissions (metric tons per capita)",
          "pais": "Canada",
          "periodo": "1980-01-01T00:00:00"
         },
         {
          "CO2": 3.870391651,
          "codigo": "MEX",
          "nombre del indicador": "CO2 emissions (metric tons per capita)",
          "pais": "México",
          "periodo": "1980-01-01T00:00:00"
         },
         {
          "CO2": 20.78648774,
          "codigo": "USA",
          "nombre del indicador": "CO2 emissions (metric tons per capita)",
          "pais": "Estados Unidos",
          "periodo": "1980-01-01T00:00:00"
         },
         {
          "CO2": 17.26921369,
          "codigo": "CAN",
          "nombre del indicador": "CO2 emissions (metric tons per capita)",
          "pais": "Canada",
          "periodo": "1981-01-01T00:00:00"
         },
         {
          "CO2": 4.00790346,
          "codigo": "MEX",
          "nombre del indicador": "CO2 emissions (metric tons per capita)",
          "pais": "México",
          "periodo": "1981-01-01T00:00:00"
         },
         {
          "CO2": 19.76676417,
          "codigo": "USA",
          "nombre del indicador": "CO2 emissions (metric tons per capita)",
          "pais": "Estados Unidos",
          "periodo": "1981-01-01T00:00:00"
         },
         {
          "CO2": 16.45944925,
          "codigo": "CAN",
          "nombre del indicador": "CO2 emissions (metric tons per capita)",
          "pais": "Canada",
          "periodo": "1982-01-01T00:00:00"
         },
         {
          "CO2": 4.198720036,
          "codigo": "MEX",
          "nombre del indicador": "CO2 emissions (metric tons per capita)",
          "pais": "México",
          "periodo": "1982-01-01T00:00:00"
         },
         {
          "CO2": 18.59049523,
          "codigo": "USA",
          "nombre del indicador": "CO2 emissions (metric tons per capita)",
          "pais": "Estados Unidos",
          "periodo": "1982-01-01T00:00:00"
         },
         {
          "CO2": 16.0546492,
          "codigo": "CAN",
          "nombre del indicador": "CO2 emissions (metric tons per capita)",
          "pais": "Canada",
          "periodo": "1983-01-01T00:00:00"
         },
         {
          "CO2": 3.75277087,
          "codigo": "MEX",
          "nombre del indicador": "CO2 emissions (metric tons per capita)",
          "pais": "México",
          "periodo": "1983-01-01T00:00:00"
         },
         {
          "CO2": 18.57154371,
          "codigo": "USA",
          "nombre del indicador": "CO2 emissions (metric tons per capita)",
          "pais": "Estados Unidos",
          "periodo": "1983-01-01T00:00:00"
         },
         {
          "CO2": 16.55885484,
          "codigo": "CAN",
          "nombre del indicador": "CO2 emissions (metric tons per capita)",
          "pais": "Canada",
          "periodo": "1984-01-01T00:00:00"
         },
         {
          "CO2": 3.663535056,
          "codigo": "MEX",
          "nombre del indicador": "CO2 emissions (metric tons per capita)",
          "pais": "México",
          "periodo": "1984-01-01T00:00:00"
         },
         {
          "CO2": 18.97675027,
          "codigo": "USA",
          "nombre del indicador": "CO2 emissions (metric tons per capita)",
          "pais": "Estados Unidos",
          "periodo": "1984-01-01T00:00:00"
         },
         {
          "CO2": 16.27010385,
          "codigo": "CAN",
          "nombre del indicador": "CO2 emissions (metric tons per capita)",
          "pais": "Canada",
          "periodo": "1985-01-01T00:00:00"
         },
         {
          "CO2": 3.729299229,
          "codigo": "MEX",
          "nombre del indicador": "CO2 emissions (metric tons per capita)",
          "pais": "México",
          "periodo": "1985-01-01T00:00:00"
         },
         {
          "CO2": 18.88231274,
          "codigo": "USA",
          "nombre del indicador": "CO2 emissions (metric tons per capita)",
          "pais": "Estados Unidos",
          "periodo": "1985-01-01T00:00:00"
         },
         {
          "CO2": 15.45768406,
          "codigo": "CAN",
          "nombre del indicador": "CO2 emissions (metric tons per capita)",
          "pais": "Canada",
          "periodo": "1986-01-01T00:00:00"
         },
         {
          "CO2": 3.731708041,
          "codigo": "MEX",
          "nombre del indicador": "CO2 emissions (metric tons per capita)",
          "pais": "México",
          "periodo": "1986-01-01T00:00:00"
         },
         {
          "CO2": 18.72072272,
          "codigo": "USA",
          "nombre del indicador": "CO2 emissions (metric tons per capita)",
          "pais": "Estados Unidos",
          "periodo": "1986-01-01T00:00:00"
         },
         {
          "CO2": 16.24667458,
          "codigo": "CAN",
          "nombre del indicador": "CO2 emissions (metric tons per capita)",
          "pais": "Canada",
          "periodo": "1987-01-01T00:00:00"
         },
         {
          "CO2": 3.817953871,
          "codigo": "MEX",
          "nombre del indicador": "CO2 emissions (metric tons per capita)",
          "pais": "México",
          "periodo": "1987-01-01T00:00:00"
         },
         {
          "CO2": 19.35033442,
          "codigo": "USA",
          "nombre del indicador": "CO2 emissions (metric tons per capita)",
          "pais": "Estados Unidos",
          "periodo": "1987-01-01T00:00:00"
         },
         {
          "CO2": 16.95682428,
          "codigo": "CAN",
          "nombre del indicador": "CO2 emissions (metric tons per capita)",
          "pais": "Canada",
          "periodo": "1988-01-01T00:00:00"
         },
         {
          "CO2": 3.740894072,
          "codigo": "MEX",
          "nombre del indicador": "CO2 emissions (metric tons per capita)",
          "pais": "México",
          "periodo": "1988-01-01T00:00:00"
         },
         {
          "CO2": 20.01041341,
          "codigo": "USA",
          "nombre del indicador": "CO2 emissions (metric tons per capita)",
          "pais": "Estados Unidos",
          "periodo": "1988-01-01T00:00:00"
         },
         {
          "CO2": 16.92078279,
          "codigo": "CAN",
          "nombre del indicador": "CO2 emissions (metric tons per capita)",
          "pais": "Canada",
          "periodo": "1989-01-01T00:00:00"
         },
         {
          "CO2": 4.323620233,
          "codigo": "MEX",
          "nombre del indicador": "CO2 emissions (metric tons per capita)",
          "pais": "México",
          "periodo": "1989-01-01T00:00:00"
         },
         {
          "CO2": 20.07576978,
          "codigo": "USA",
          "nombre del indicador": "CO2 emissions (metric tons per capita)",
          "pais": "Estados Unidos",
          "periodo": "1989-01-01T00:00:00"
         },
         {
          "CO2": 15.65907038,
          "codigo": "CAN",
          "nombre del indicador": "CO2 emissions (metric tons per capita)",
          "pais": "Canada",
          "periodo": "1990-01-01T00:00:00"
         },
         {
          "CO2": 3.730500739,
          "codigo": "MEX",
          "nombre del indicador": "CO2 emissions (metric tons per capita)",
          "pais": "México",
          "periodo": "1990-01-01T00:00:00"
         },
         {
          "CO2": 19.32275118,
          "codigo": "USA",
          "nombre del indicador": "CO2 emissions (metric tons per capita)",
          "pais": "Estados Unidos",
          "periodo": "1990-01-01T00:00:00"
         },
         {
          "CO2": 15.14925974,
          "codigo": "CAN",
          "nombre del indicador": "CO2 emissions (metric tons per capita)",
          "pais": "Canada",
          "periodo": "1991-01-01T00:00:00"
         },
         {
          "CO2": 3.812485098,
          "codigo": "MEX",
          "nombre del indicador": "CO2 emissions (metric tons per capita)",
          "pais": "México",
          "periodo": "1991-01-01T00:00:00"
         },
         {
          "CO2": 19.05616319,
          "codigo": "USA",
          "nombre del indicador": "CO2 emissions (metric tons per capita)",
          "pais": "Estados Unidos",
          "periodo": "1991-01-01T00:00:00"
         },
         {
          "CO2": 15.46230657,
          "codigo": "CAN",
          "nombre del indicador": "CO2 emissions (metric tons per capita)",
          "pais": "Canada",
          "periodo": "1992-01-01T00:00:00"
         },
         {
          "CO2": 3.767921409,
          "codigo": "MEX",
          "nombre del indicador": "CO2 emissions (metric tons per capita)",
          "pais": "México",
          "periodo": "1992-01-01T00:00:00"
         },
         {
          "CO2": 19.13943728,
          "codigo": "USA",
          "nombre del indicador": "CO2 emissions (metric tons per capita)",
          "pais": "Estados Unidos",
          "periodo": "1992-01-01T00:00:00"
         },
         {
          "CO2": 15.45362956,
          "codigo": "CAN",
          "nombre del indicador": "CO2 emissions (metric tons per capita)",
          "pais": "Canada",
          "periodo": "1993-01-01T00:00:00"
         },
         {
          "CO2": 3.746878153,
          "codigo": "MEX",
          "nombre del indicador": "CO2 emissions (metric tons per capita)",
          "pais": "México",
          "periodo": "1993-01-01T00:00:00"
         },
         {
          "CO2": 19.34708291,
          "codigo": "USA",
          "nombre del indicador": "CO2 emissions (metric tons per capita)",
          "pais": "Estados Unidos",
          "periodo": "1993-01-01T00:00:00"
         },
         {
          "CO2": 15.6928759,
          "codigo": "CAN",
          "nombre del indicador": "CO2 emissions (metric tons per capita)",
          "pais": "Canada",
          "periodo": "1994-01-01T00:00:00"
         },
         {
          "CO2": 3.820068506,
          "codigo": "MEX",
          "nombre del indicador": "CO2 emissions (metric tons per capita)",
          "pais": "México",
          "periodo": "1994-01-01T00:00:00"
         },
         {
          "CO2": 19.36089205,
          "codigo": "USA",
          "nombre del indicador": "CO2 emissions (metric tons per capita)",
          "pais": "Estados Unidos",
          "periodo": "1994-01-01T00:00:00"
         },
         {
          "CO2": 15.93097506,
          "codigo": "CAN",
          "nombre del indicador": "CO2 emissions (metric tons per capita)",
          "pais": "Canada",
          "periodo": "1995-01-01T00:00:00"
         },
         {
          "CO2": 3.538889585,
          "codigo": "MEX",
          "nombre del indicador": "CO2 emissions (metric tons per capita)",
          "pais": "México",
          "periodo": "1995-01-01T00:00:00"
         },
         {
          "CO2": 19.27654526,
          "codigo": "USA",
          "nombre del indicador": "CO2 emissions (metric tons per capita)",
          "pais": "Estados Unidos",
          "periodo": "1995-01-01T00:00:00"
         },
         {
          "CO2": 16.15737155,
          "codigo": "CAN",
          "nombre del indicador": "CO2 emissions (metric tons per capita)",
          "pais": "Canada",
          "periodo": "1996-01-01T00:00:00"
         },
         {
          "CO2": 3.620305649,
          "codigo": "MEX",
          "nombre del indicador": "CO2 emissions (metric tons per capita)",
          "pais": "México",
          "periodo": "1996-01-01T00:00:00"
         },
         {
          "CO2": 19.49602474,
          "codigo": "USA",
          "nombre del indicador": "CO2 emissions (metric tons per capita)",
          "pais": "Estados Unidos",
          "periodo": "1996-01-01T00:00:00"
         },
         {
          "CO2": 16.51685906,
          "codigo": "CAN",
          "nombre del indicador": "CO2 emissions (metric tons per capita)",
          "pais": "Canada",
          "periodo": "1997-01-01T00:00:00"
         },
         {
          "CO2": 3.801014279,
          "codigo": "MEX",
          "nombre del indicador": "CO2 emissions (metric tons per capita)",
          "pais": "México",
          "periodo": "1997-01-01T00:00:00"
         },
         {
          "CO2": 19.69036318,
          "codigo": "USA",
          "nombre del indicador": "CO2 emissions (metric tons per capita)",
          "pais": "Estados Unidos",
          "periodo": "1997-01-01T00:00:00"
         },
         {
          "CO2": 16.7460786,
          "codigo": "CAN",
          "nombre del indicador": "CO2 emissions (metric tons per capita)",
          "pais": "Canada",
          "periodo": "1998-01-01T00:00:00"
         },
         {
          "CO2": 3.937272843,
          "codigo": "MEX",
          "nombre del indicador": "CO2 emissions (metric tons per capita)",
          "pais": "México",
          "periodo": "1998-01-01T00:00:00"
         },
         {
          "CO2": 19.5792362,
          "codigo": "USA",
          "nombre del indicador": "CO2 emissions (metric tons per capita)",
          "pais": "Estados Unidos",
          "periodo": "1998-01-01T00:00:00"
         },
         {
          "CO2": 16.89846016,
          "codigo": "CAN",
          "nombre del indicador": "CO2 emissions (metric tons per capita)",
          "pais": "Canada",
          "periodo": "1999-01-01T00:00:00"
         },
         {
          "CO2": 3.904180812,
          "codigo": "MEX",
          "nombre del indicador": "CO2 emissions (metric tons per capita)",
          "pais": "México",
          "periodo": "1999-01-01T00:00:00"
         },
         {
          "CO2": 19.72716951,
          "codigo": "USA",
          "nombre del indicador": "CO2 emissions (metric tons per capita)",
          "pais": "Estados Unidos",
          "periodo": "1999-01-01T00:00:00"
         },
         {
          "CO2": 17.36711469,
          "codigo": "CAN",
          "nombre del indicador": "CO2 emissions (metric tons per capita)",
          "pais": "Canada",
          "periodo": "2000-01-01T00:00:00"
         },
         {
          "CO2": 3.916478182,
          "codigo": "MEX",
          "nombre del indicador": "CO2 emissions (metric tons per capita)",
          "pais": "México",
          "periodo": "2000-01-01T00:00:00"
         },
         {
          "CO2": 20.17875051,
          "codigo": "USA",
          "nombre del indicador": "CO2 emissions (metric tons per capita)",
          "pais": "Estados Unidos",
          "periodo": "2000-01-01T00:00:00"
         },
         {
          "CO2": 16.98502952,
          "codigo": "CAN",
          "nombre del indicador": "CO2 emissions (metric tons per capita)",
          "pais": "Canada",
          "periodo": "2001-01-01T00:00:00"
         },
         {
          "CO2": 4.006881616,
          "codigo": "MEX",
          "nombre del indicador": "CO2 emissions (metric tons per capita)",
          "pais": "México",
          "periodo": "2001-01-01T00:00:00"
         },
         {
          "CO2": 19.63650507,
          "codigo": "USA",
          "nombre del indicador": "CO2 emissions (metric tons per capita)",
          "pais": "Estados Unidos",
          "periodo": "2001-01-01T00:00:00"
         },
         {
          "CO2": 16.55937785,
          "codigo": "CAN",
          "nombre del indicador": "CO2 emissions (metric tons per capita)",
          "pais": "Canada",
          "periodo": "2002-01-01T00:00:00"
         },
         {
          "CO2": 3.970934988,
          "codigo": "MEX",
          "nombre del indicador": "CO2 emissions (metric tons per capita)",
          "pais": "México",
          "periodo": "2002-01-01T00:00:00"
         },
         {
          "CO2": 19.61340408,
          "codigo": "USA",
          "nombre del indicador": "CO2 emissions (metric tons per capita)",
          "pais": "Estados Unidos",
          "periodo": "2002-01-01T00:00:00"
         },
         {
          "CO2": 17.46119914,
          "codigo": "CAN",
          "nombre del indicador": "CO2 emissions (metric tons per capita)",
          "pais": "Canada",
          "periodo": "2003-01-01T00:00:00"
         },
         {
          "CO2": 4.16704652,
          "codigo": "MEX",
          "nombre del indicador": "CO2 emissions (metric tons per capita)",
          "pais": "México",
          "periodo": "2003-01-01T00:00:00"
         },
         {
          "CO2": 19.56410453,
          "codigo": "USA",
          "nombre del indicador": "CO2 emissions (metric tons per capita)",
          "pais": "Estados Unidos",
          "periodo": "2003-01-01T00:00:00"
         },
         {
          "CO2": 17.25891114,
          "codigo": "CAN",
          "nombre del indicador": "CO2 emissions (metric tons per capita)",
          "pais": "Canada",
          "periodo": "2004-01-01T00:00:00"
         },
         {
          "CO2": 4.124551403,
          "codigo": "MEX",
          "nombre del indicador": "CO2 emissions (metric tons per capita)",
          "pais": "México",
          "periodo": "2004-01-01T00:00:00"
         },
         {
          "CO2": 19.65837118,
          "codigo": "USA",
          "nombre del indicador": "CO2 emissions (metric tons per capita)",
          "pais": "Estados Unidos",
          "periodo": "2004-01-01T00:00:00"
         },
         {
          "CO2": 17.25108328,
          "codigo": "CAN",
          "nombre del indicador": "CO2 emissions (metric tons per capita)",
          "pais": "Canada",
          "periodo": "2005-01-01T00:00:00"
         },
         {
          "CO2": 4.299365235,
          "codigo": "MEX",
          "nombre del indicador": "CO2 emissions (metric tons per capita)",
          "pais": "México",
          "periodo": "2005-01-01T00:00:00"
         },
         {
          "CO2": 19.59188523,
          "codigo": "USA",
          "nombre del indicador": "CO2 emissions (metric tons per capita)",
          "pais": "Estados Unidos",
          "periodo": "2005-01-01T00:00:00"
         },
         {
          "CO2": 16.69669436,
          "codigo": "CAN",
          "nombre del indicador": "CO2 emissions (metric tons per capita)",
          "pais": "Canada",
          "periodo": "2006-01-01T00:00:00"
         },
         {
          "CO2": 4.353173578,
          "codigo": "MEX",
          "nombre del indicador": "CO2 emissions (metric tons per capita)",
          "pais": "México",
          "periodo": "2006-01-01T00:00:00"
         },
         {
          "CO2": 19.09406652,
          "codigo": "USA",
          "nombre del indicador": "CO2 emissions (metric tons per capita)",
          "pais": "Estados Unidos",
          "periodo": "2006-01-01T00:00:00"
         },
         {
          "CO2": 16.85588274,
          "codigo": "CAN",
          "nombre del indicador": "CO2 emissions (metric tons per capita)",
          "pais": "Canada",
          "periodo": "2007-01-01T00:00:00"
         },
         {
          "CO2": 4.296635487,
          "codigo": "MEX",
          "nombre del indicador": "CO2 emissions (metric tons per capita)",
          "pais": "México",
          "periodo": "2007-01-01T00:00:00"
         },
         {
          "CO2": 19.21789784,
          "codigo": "USA",
          "nombre del indicador": "CO2 emissions (metric tons per capita)",
          "pais": "Estados Unidos",
          "periodo": "2007-01-01T00:00:00"
         },
         {
          "CO2": 16.87519788,
          "codigo": "CAN",
          "nombre del indicador": "CO2 emissions (metric tons per capita)",
          "pais": "Canada",
          "periodo": "2008-01-01T00:00:00"
         },
         {
          "CO2": 4.339644436,
          "codigo": "MEX",
          "nombre del indicador": "CO2 emissions (metric tons per capita)",
          "pais": "México",
          "periodo": "2008-01-01T00:00:00"
         },
         {
          "CO2": 18.46176387,
          "codigo": "USA",
          "nombre del indicador": "CO2 emissions (metric tons per capita)",
          "pais": "Estados Unidos",
          "periodo": "2008-01-01T00:00:00"
         },
         {
          "CO2": 15.96156016,
          "codigo": "CAN",
          "nombre del indicador": "CO2 emissions (metric tons per capita)",
          "pais": "Canada",
          "periodo": "2009-01-01T00:00:00"
         },
         {
          "CO2": 4.120600766,
          "codigo": "MEX",
          "nombre del indicador": "CO2 emissions (metric tons per capita)",
          "pais": "México",
          "periodo": "2009-01-01T00:00:00"
         },
         {
          "CO2": 17.15773779,
          "codigo": "USA",
          "nombre del indicador": "CO2 emissions (metric tons per capita)",
          "pais": "Estados Unidos",
          "periodo": "2009-01-01T00:00:00"
         },
         {
          "CO2": 15.723167000000002,
          "codigo": "CAN",
          "nombre del indicador": "CO2 emissions (metric tons per capita)",
          "pais": "Canada",
          "periodo": "2010-01-01T00:00:00"
         },
         {
          "CO2": 3.957657664,
          "codigo": "MEX",
          "nombre del indicador": "CO2 emissions (metric tons per capita)",
          "pais": "México",
          "periodo": "2010-01-01T00:00:00"
         },
         {
          "CO2": 17.44216612,
          "codigo": "USA",
          "nombre del indicador": "CO2 emissions (metric tons per capita)",
          "pais": "Estados Unidos",
          "periodo": "2010-01-01T00:00:00"
         },
         {
          "CO2": 15.63975962,
          "codigo": "CAN",
          "nombre del indicador": "CO2 emissions (metric tons per capita)",
          "pais": "Canada",
          "periodo": "2011-01-01T00:00:00"
         },
         {
          "CO2": 4.067755192,
          "codigo": "MEX",
          "nombre del indicador": "CO2 emissions (metric tons per capita)",
          "pais": "México",
          "periodo": "2011-01-01T00:00:00"
         },
         {
          "CO2": 16.97345609,
          "codigo": "USA",
          "nombre del indicador": "CO2 emissions (metric tons per capita)",
          "pais": "Estados Unidos",
          "periodo": "2011-01-01T00:00:00"
         },
         {
          "CO2": 14.89063564,
          "codigo": "CAN",
          "nombre del indicador": "CO2 emissions (metric tons per capita)",
          "pais": "Canada",
          "periodo": "2012-01-01T00:00:00"
         },
         {
          "CO2": 4.107686314,
          "codigo": "MEX",
          "nombre del indicador": "CO2 emissions (metric tons per capita)",
          "pais": "México",
          "periodo": "2012-01-01T00:00:00"
         },
         {
          "CO2": 16.304286800000003,
          "codigo": "USA",
          "nombre del indicador": "CO2 emissions (metric tons per capita)",
          "pais": "Estados Unidos",
          "periodo": "2012-01-01T00:00:00"
         },
         {
          "CO2": 14.71197182,
          "codigo": "CAN",
          "nombre del indicador": "CO2 emissions (metric tons per capita)",
          "pais": "Canada",
          "periodo": "2013-01-01T00:00:00"
         },
         {
          "CO2": 4.001602493,
          "codigo": "MEX",
          "nombre del indicador": "CO2 emissions (metric tons per capita)",
          "pais": "México",
          "periodo": "2013-01-01T00:00:00"
         },
         {
          "CO2": 16.31435182,
          "codigo": "USA",
          "nombre del indicador": "CO2 emissions (metric tons per capita)",
          "pais": "Estados Unidos",
          "periodo": "2013-01-01T00:00:00"
         },
         {
          "CO2": 15.11715878,
          "codigo": "CAN",
          "nombre del indicador": "CO2 emissions (metric tons per capita)",
          "pais": "Canada",
          "periodo": "2014-01-01T00:00:00"
         },
         {
          "CO2": 3.866241113,
          "codigo": "MEX",
          "nombre del indicador": "CO2 emissions (metric tons per capita)",
          "pais": "México",
          "periodo": "2014-01-01T00:00:00"
         },
         {
          "CO2": 16.49060839,
          "codigo": "USA",
          "nombre del indicador": "CO2 emissions (metric tons per capita)",
          "pais": "Estados Unidos",
          "periodo": "2014-01-01T00:00:00"
         }
        ]
       },
       "encoding": {
        "color": {
         "field": "codigo",
         "type": "nominal"
        },
        "x": {
         "field": "periodo",
         "title": "Año",
         "type": "temporal"
        },
        "y": {
         "field": "CO2",
         "type": "quantitative"
        }
       },
       "height": 300,
       "mark": "line",
       "title": "Emisiones de CO2 (toneladas metricas per capita)",
       "width": 800
      },
      "image/png": "[encoded data removed]",
      "text/plain": [
       "<VegaLite 2 object>\n",
       "\n",
       "If you see this message, it means the renderer has not been properly enabled\n",
       "for the frontend that you are using. For more information, see\n",
       "https://altair-viz.github.io/user_guide/troubleshooting.html\n"
      ]
     },
     "execution_count": 10,
     "metadata": {},
     "output_type": "execute_result"
    }
   ],
   "source": [
    "alt.Chart(datos).mark_line().encode(\n",
    "    x = alt.X('periodo:T', title = 'Año'),\n",
    "    y = alt.Y('CO2:Q'),\n",
    "    color = alt.Color('codigo:N')\n",
    ").properties(\n",
    "    title = \"Emisiones de CO2 (toneladas metricas per capita)\",\n",
    "    width = 800,\n",
    "    height = 300,\n",
    ")"
   ]
  },
  {
   "cell_type": "markdown",
   "metadata": {},
   "source": [
    "__Nota__: Si estas leyendo esto en la página del libro, te invito a que hagas clic en el botón __Interactuar__ en la parte superior de la página. En el proceso de publicar estos __notebooks__ como páginas web de este libro puede distorsionar algunas imágenes. Al hacer clic en __Interactuar__ vas a activar una instancia de este libro con todo su material y paquetes en [mybinder.org](https://mybinder.org) donde prodrás manipular el código y, más importante en este caso, observar las dimensiones reales de los gráficos que estamos creando."
   ]
  }
 ],
 "metadata": {
  "kernelspec": {
   "display_name": "Python 3",
   "language": "python",
   "name": "python3"
  },
  "language_info": {
   "codemirror_mode": {
    "name": "ipython",
    "version": 3
   },
   "file_extension": ".py",
   "mimetype": "text/x-python",
   "name": "python",
   "nbconvert_exporter": "python",
   "pygments_lexer": "ipython3",
   "version": "3.6.6"
  }
 },
 "nbformat": 4,
 "nbformat_minor": 2
}
