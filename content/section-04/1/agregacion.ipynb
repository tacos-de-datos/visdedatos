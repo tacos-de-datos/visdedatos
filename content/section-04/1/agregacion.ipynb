{
 "cells": [
  {
   "cell_type": "markdown",
   "metadata": {},
   "source": [
    "# Agregación\n",
    "\n",
    ">_A menudo es necesario transformar o filtrar datos en el proceso de visualización. En `Altair` puedes hacer esto de dos maneras:\n",
    "Antes de la definición del gráfico, utilizando transformaciones de datos estándar de `Pandas`.\n",
    "Dentro de la definición del gráfico, utilizando las herramientas de transformación de datos de Vega-Lite.\n",
    "En la mayoría de los casos, le sugerimos que utilice el primer enfoque, porque es más directo para aquellos que están familiarizados con la manipulación de datos en `Python`, y porque el paquete `Pandas` ofrece mucha más flexibilidad que Vega-Lite en las manipulaciones de datos disponibles.\n",
    "El segundo enfoque resulta útil cuando el origen de datos no es __DataFrame__, sino, por ejemplo, un URL a un archivo __JSON__ o __CSV__. También puede ser útil en un gráfico compuesto en el que diferentes vistas del conjunto de datos requieren diferentes transformaciones.\n",
    "Este segundo enfoque, que especifica las transformaciones de datos dentro de la especificación del gráfico, se puede lograr utilizando los métodos `transform_ *` de los objetos de nivel superior:\n",
    ">###### [Documentación de `Altair`](https://altair-viz.github.io/user_guide/transform.html)"
   ]
  },
  {
   "cell_type": "markdown",
   "metadata": {},
   "source": [
    "En este capítulo aprenderemos de las "
   ]
  }
 ],
 "metadata": {
  "kernelspec": {
   "display_name": "Python 3",
   "language": "python",
   "name": "python3"
  },
  "language_info": {
   "codemirror_mode": {
    "name": "ipython",
    "version": 3
   },
   "file_extension": ".py",
   "mimetype": "text/x-python",
   "name": "python",
   "nbconvert_exporter": "python",
   "pygments_lexer": "ipython3",
   "version": "3.6.6"
  }
 },
 "nbformat": 4,
 "nbformat_minor": 2
}
